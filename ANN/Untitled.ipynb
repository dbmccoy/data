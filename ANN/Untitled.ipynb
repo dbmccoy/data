{
 "cells": [
  {
   "cell_type": "code",
   "execution_count": 1,
   "metadata": {
    "collapsed": true
   },
   "outputs": [],
   "source": [
    "%matplotlib inline\n",
    "import matplotlib\n",
    "import numpy as np\n",
    "import matplotlib.pyplot as plt"
   ]
  },
  {
   "cell_type": "code",
   "execution_count": 2,
   "metadata": {
    "collapsed": true
   },
   "outputs": [],
   "source": [
    "def f(x):\n",
    "    return 0.3*x*x + 2*np.sin(x) - 2*x +.05"
   ]
  },
  {
   "cell_type": "code",
   "execution_count": 3,
   "metadata": {
    "scrolled": true
   },
   "outputs": [
    {
     "data": {
      "text/plain": [
       "array([ 0. ,  0.1,  0.2,  0.3,  0.4,  0.5,  0.6,  0.7,  0.8,  0.9,  1. ,\n",
       "        1.1,  1.2,  1.3,  1.4,  1.5,  1.6,  1.7,  1.8,  1.9,  2. ,  2.1,\n",
       "        2.2,  2.3,  2.4,  2.5,  2.6,  2.7,  2.8,  2.9,  3. ,  3.1,  3.2,\n",
       "        3.3,  3.4,  3.5,  3.6,  3.7,  3.8,  3.9,  4. ,  4.1,  4.2,  4.3,\n",
       "        4.4,  4.5,  4.6,  4.7,  4.8,  4.9,  5. ,  5.1,  5.2,  5.3,  5.4,\n",
       "        5.5,  5.6,  5.7,  5.8,  5.9,  6. ,  6.1,  6.2,  6.3,  6.4,  6.5,\n",
       "        6.6,  6.7,  6.8,  6.9,  7. ,  7.1,  7.2,  7.3,  7.4,  7.5,  7.6,\n",
       "        7.7,  7.8,  7.9,  8. ,  8.1,  8.2,  8.3,  8.4,  8.5,  8.6,  8.7,\n",
       "        8.8,  8.9,  9. ,  9.1,  9.2,  9.3,  9.4,  9.5,  9.6,  9.7,  9.8,\n",
       "        9.9])"
      ]
     },
     "execution_count": 3,
     "metadata": {},
     "output_type": "execute_result"
    }
   ],
   "source": [
    "x = np.arange(0.0, 10.0, 0.1)\n",
    "x"
   ]
  },
  {
   "cell_type": "code",
   "execution_count": 4,
   "metadata": {},
   "outputs": [
    {
     "data": {
      "text/plain": [
       "array([  5.00000000e-02,   5.26668333e-02,   5.93386616e-02,\n",
       "         6.80404133e-02,   7.68366846e-02,   8.38510772e-02,\n",
       "         8.72849468e-02,   8.54353745e-02,   7.67121818e-02,\n",
       "         5.96538193e-02,   3.29419696e-02,  -4.58527988e-03,\n",
       "        -5.39218281e-02,  -1.15883629e-01,  -1.91100540e-01,\n",
       "        -2.80010027e-01,  -3.82852794e-01,  -4.99670379e-01,\n",
       "        -6.30304738e-01,  -7.74399825e-01,  -9.31405146e-01,\n",
       "        -1.10058127e+00,  -1.28100719e+00,  -1.47158958e+00,\n",
       "        -1.67107364e+00,  -1.87805571e+00,  -2.09099726e+00,\n",
       "        -2.30824024e+00,  -2.52802370e+00,  -2.74850134e+00,\n",
       "        -2.96775998e+00,  -3.18383868e+00,  -3.39474829e+00,\n",
       "        -3.59849139e+00,  -3.79308220e+00,  -3.97656646e+00,\n",
       "        -4.14704089e+00,  -4.30267228e+00,  -4.44171578e+00,\n",
       "        -4.56253232e+00,  -4.66360499e+00,  -4.74355422e+00,\n",
       "        -4.80115154e+00,  -4.83533187e+00,  -4.84520415e+00,\n",
       "        -4.83006024e+00,  -4.78938201e+00,  -4.72284652e+00,\n",
       "        -4.63032922e+00,  -4.51190523e+00,  -4.36784855e+00,\n",
       "        -4.19862936e+00,  -4.00490931e+00,  -3.78753488e+00,\n",
       "        -3.54752898e+00,  -3.28608065e+00,  -3.00453328e+00,\n",
       "        -2.70437109e+00,  -2.38720436e+00,  -2.05475333e+00,\n",
       "        -1.70883100e+00,  -1.35132501e+00,  -9.84178806e-01,\n",
       "        -6.09372199e-01,  -2.28901590e-01,   1.55239976e-01,\n",
       "         5.41082727e-01,   9.26699841e-01,   1.31022670e+00,\n",
       "         1.68987953e+00,   2.06397320e+00,   2.43093808e+00,\n",
       "         2.78933573e+00,   3.13787324e+00,   3.47541619e+00,\n",
       "         3.80099995e+00,   4.11383934e+00,   4.41333647e+00,\n",
       "         4.69908669e+00,   4.97088268e+00,   5.22871649e+00,\n",
       "         5.47277962e+00,   5.70346111e+00,   5.92134367e+00,\n",
       "         6.12719782e+00,   6.32197423e+00,   6.50679420e+00,\n",
       "         6.68293846e+00,   6.85183439e+00,   7.01504171e+00,\n",
       "         7.17423697e+00,   7.33119672e+00,   7.48777983e+00,\n",
       "         7.64590885e+00,   7.80755085e+00,   7.97469776e+00,\n",
       "         8.14934644e+00,   8.33347875e+00,   8.52904174e+00,\n",
       "         8.73792821e+00])"
      ]
     },
     "execution_count": 4,
     "metadata": {},
     "output_type": "execute_result"
    }
   ],
   "source": [
    "y = f(x)\n",
    "y"
   ]
  },
  {
   "cell_type": "code",
   "execution_count": 5,
   "metadata": {},
   "outputs": [
    {
     "data": {
      "text/plain": [
       "[<matplotlib.lines.Line2D at 0x2df828199e8>]"
      ]
     },
     "execution_count": 5,
     "metadata": {},
     "output_type": "execute_result"
    },
    {
     "data": {
      "image/png": "[encoded data removed]",
      "text/plain": [
       "<matplotlib.figure.Figure at 0x2df8240a6a0>"
      ]
     },
     "metadata": {},
     "output_type": "display_data"
    }
   ],
   "source": [
    "plt.plot(x,y, 'bo')"
   ]
  },
  {
   "cell_type": "code",
   "execution_count": 6,
   "metadata": {
    "collapsed": true
   },
   "outputs": [],
   "source": [
    "xmin = x.min()\n",
    "xmax = x.max()\n",
    "ymin = y.min()\n",
    "ymax = y.max()\n",
    "\n",
    "x2 = x.copy()\n",
    "y2 = y.copy()\n",
    "\n",
    "x2 -= xmin\n",
    "x2 /= (xmax-xmin)\n",
    "y2 -= ymin\n",
    "y2 /= (ymax - ymin)"
   ]
  },
  {
   "cell_type": "code",
   "execution_count": 9,
   "metadata": {},
   "outputs": [],
   "source": [
    "from ANN import ANN"
   ]
  },
  {
   "cell_type": "code",
   "execution_count": 10,
   "metadata": {
    "collapsed": true
   },
   "outputs": [],
   "source": [
    "fann = ANN([1,10,1])"
   ]
  },
  {
   "cell_type": "code",
   "execution_count": 11,
   "metadata": {},
   "outputs": [
    {
     "name": "stdout",
     "output_type": "stream",
     "text": [
      "0 0.592023024587\n",
      "100 0.932520291004\n",
      "200 0.0270989872853\n",
      "300 0.0329679971648\n",
      "400 0.0248144017419\n",
      "500 0.0232616954463\n",
      "600 0.0228306374595\n",
      "700 0.0226599017533\n",
      "800 0.0225570922616\n",
      "900 0.0224640425884\n",
      "1000 0.0223610046866\n",
      "1100 0.0222407475432\n",
      "1200 0.0221003289077\n",
      "1300 0.0219383261032\n",
      "1400 0.0217538817385\n",
      "1500 0.0215463726875\n",
      "1600 0.021315296332\n",
      "1700 0.0210602319934\n",
      "1800 0.0207808265327\n",
      "1900 0.0204767852511\n",
      "2000 0.0201478610275\n",
      "2100 0.0197938393515\n",
      "2200 0.0194145192063\n",
      "2300 0.0190096912384\n",
      "2400 0.0185791158716\n",
      "2500 0.0181225051533\n",
      "2600 0.0176395131646\n",
      "2700 0.0171297406948\n",
      "2800 0.0165927603951\n",
      "2900 0.0160281684822\n",
      "3000 0.0154356679051\n",
      "3100 0.0148151853597\n",
      "3200 0.0141670205413\n",
      "3300 0.0134920208806\n",
      "3400 0.012791769608\n",
      "3500 0.0120687705524\n",
      "3600 0.0113266106606\n",
      "3700 0.0105700810643\n",
      "3800 0.00980523882907\n",
      "3900 0.00903939286604\n",
      "4000 0.0082809979515\n",
      "4100 0.00753944098187\n",
      "4200 0.00682470605\n",
      "4300 0.0061469133818\n",
      "4400 0.00551574466975\n",
      "4500 0.004939793812\n",
      "4600 0.0044259124002\n",
      "4700 0.0039786433665\n",
      "4800 0.00359984195732\n",
      "4900 0.00328856238272\n",
      "5000 0.00304124219249\n",
      "5100 0.00285215681504\n",
      "5200 0.00271406272782\n",
      "5300 0.00261891669049\n",
      "5400 0.00255855819446\n",
      "5500 0.0025252686016\n",
      "5600 0.00251216080188\n",
      "5700 0.00251339338941\n",
      "5800 0.00252423316868\n",
      "5900 0.002541005416\n",
      "6000 0.00256097421537\n",
      "6100 0.00258218960716\n",
      "6200 0.00260332881\n",
      "6300 0.00262354888807\n",
      "6400 0.00264235992811\n",
      "6500 0.00265952178665\n",
      "6600 0.00267496369078\n",
      "6700 0.0026887239685\n",
      "6800 0.00270090640459\n",
      "6900 0.00271164968943\n",
      "7000 0.00272110679478\n",
      "7100 0.00272943163713\n",
      "7200 0.00273677093616\n",
      "7300 0.00274325967143\n",
      "7400 0.00274901895567\n",
      "7500 0.00275415547317\n",
      "7600 0.00275876188414\n",
      "7700 0.00276291778428\n",
      "7800 0.00276669094439\n",
      "7900 0.00277013865204\n",
      "8000 0.00277330904422\n",
      "8100 0.00277624236589\n",
      "8200 0.00277897212003\n",
      "8300 0.00278152609429\n",
      "8400 0.00278392726216\n",
      "8500 0.00278619456373\n",
      "8600 0.00278834357536\n",
      "8700 0.0027903870794\n",
      "8800 0.00279233554565\n",
      "8900 0.00279419753609\n",
      "9000 0.00279598004342\n",
      "9100 0.00279768877311\n",
      "9200 0.00279932837769\n",
      "9300 0.0028009026506\n",
      "9400 0.00280241468623\n",
      "9500 0.00280386701167\n",
      "9600 0.00280526169494\n",
      "9700 0.00280660043367\n",
      "9800 0.00280788462767\n",
      "9900 0.00280911543805\n"
     ]
    }
   ],
   "source": [
    "inputs = [[i] for i in x2]\n",
    "targets = [[t] for t in y2]\n",
    "fann.train(inputs, targets, 10000)"
   ]
  }
 ],
 "metadata": {
  "kernelspec": {
   "display_name": "Python 3",
   "language": "python",
   "name": "python3"
  },
  "language_info": {
   "codemirror_mode": {
    "name": "ipython",
    "version": 3
   },
   "file_extension": ".py",
   "mimetype": "text/x-python",
   "name": "python",
   "nbconvert_exporter": "python",
   "pygments_lexer": "ipython3",
   "version": "3.6.1"
  }
 },
 "nbformat": 4,
 "nbformat_minor": 2
}
