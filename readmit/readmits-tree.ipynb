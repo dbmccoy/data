{
 "cells": [
  {
   "cell_type": "code",
   "execution_count": 100,
   "metadata": {
    "collapsed": true
   },
   "outputs": [],
   "source": [
    "import pandas as pd\n",
    "import numpy as np\n",
    "import matplotlib.pyplot as plt\n",
    "import seaborn as sns\n",
    "%matplotlib inline"
   ]
  },
  {
   "cell_type": "code",
   "execution_count": 101,
   "metadata": {
    "collapsed": true
   },
   "outputs": [],
   "source": [
    "data = pd.read_csv('readmit_w_counts.csv')\n",
    "#data.drop('HSP_ACCOUNT_ID',axis=1,inplace=True)"
   ]
  },
  {
   "cell_type": "code",
   "execution_count": 102,
   "metadata": {},
   "outputs": [],
   "source": [
    "data = data[data['Days_Stay_Current'] >= 0]\n",
    "data = data.dropna(axis=0,how='any')\n",
    "\n",
    "def squish(val):\n",
    "    if val > 0:\n",
    "        return 1\n",
    "    else:\n",
    "        return 0\n",
    "    \n",
    "data['CntAdmitsSubsequent'] = data['CntAdmitsSubsequent'].apply(lambda x: squish(x))\n",
    "data['ImagingCount'] = data['ImagingCount'].apply(lambda x: squish(x))\n",
    "data.drop(['Corticosteroids.1'], axis=1, inplace=True)\n"
   ]
  },
  {
   "cell_type": "code",
   "execution_count": 104,
   "metadata": {},
   "outputs": [],
   "source": [
    "group_names = [1, 2, 3, 4, 5]\n",
    "bins = [-1,18,40,60,80,150]\n",
    "data['Age'] = pd.cut(data['Age'], bins, labels=group_names)\n",
    "\n",
    "group_names = [1, 2, 3, 4, 5, 6]\n",
    "bins = [-1,10,20,30,50,100,1500]\n",
    "data['NumberActiveMedOrders'] = pd.cut(data['NumberActiveMedOrders'], bins, labels=group_names)\n",
    "\n",
    "group_names = [1, 2, 3, 4, 5, 6]\n",
    "bins = [-1,0,3,6,10,100,1500]\n",
    "data['Days_Stay_Current'] = pd.cut(data['Days_Stay_Current'], bins, labels=group_names)\n",
    "\n",
    "#data['Days_Stay_Current']\n",
    "#data['CntNumPastEDVisits']\n"
   ]
  },
  {
   "cell_type": "code",
   "execution_count": 106,
   "metadata": {},
   "outputs": [
    {
     "data": {
      "text/plain": [
       "<matplotlib.axes._subplots.AxesSubplot at 0x231dba55f28>"
      ]
     },
     "execution_count": 106,
     "metadata": {},
     "output_type": "execute_result"
    },
    {
     "data": {
      "image/png": "[encoded data removed]",
      "text/plain": [
       "<matplotlib.figure.Figure at 0x231db2e9390>"
      ]
     },
     "metadata": {},
     "output_type": "display_data"
    }
   ],
   "source": [
    "#sns.distplot(data['Days_Stay_Current'])\n",
    "sns.countplot(data['Days_Stay_Current'])"
   ]
  },
  {
   "cell_type": "code",
   "execution_count": null,
   "metadata": {
    "collapsed": true
   },
   "outputs": [],
   "source": [
    "isPeds = False\n",
    "\n",
    "if isPeds:\n",
    "    data = data[data['Age'] <= 18]\n",
    "    #data.drop(['BUNVal','CreatinineVal','PO4Val'], axis=1)\n",
    "else:\n",
    "    data = data[data['Age'] >= 18]\n",
    "    data.drop(['BUNVal'], axis=1)\n",
    "\n",
    "\n",
    "#data = data[data['HSP_ACCOUNT_ID'] >= 40000000]\n"
   ]
  },
  {
   "cell_type": "code",
   "execution_count": null,
   "metadata": {},
   "outputs": [],
   "source": [
    "def binnify(col, number):\n",
    "    num_range = col.max() - col.min()\n",
    "    step = num_range / number\n",
    "     \n",
    "    print(step)\n",
    "    \n",
    "binnify(data['Age'], 5)"
   ]
  },
  {
   "cell_type": "code",
   "execution_count": null,
   "metadata": {
    "scrolled": true
   },
   "outputs": [],
   "source": [
    "data.describe()"
   ]
  },
  {
   "cell_type": "code",
   "execution_count": null,
   "metadata": {
    "collapsed": true
   },
   "outputs": [],
   "source": [
    "#data.info()"
   ]
  },
  {
   "cell_type": "code",
   "execution_count": null,
   "metadata": {
    "collapsed": true
   },
   "outputs": [],
   "source": [
    "#cystic fibrosis, cerebral palsy, central line, sickle cell, social work involvement, G tube, \n",
    "#failure to thrive, gestational age, albumin is low\n",
    "\n",
    "#drop createnine, PO4 for peds"
   ]
  },
  {
   "cell_type": "code",
   "execution_count": null,
   "metadata": {
    "collapsed": true
   },
   "outputs": [],
   "source": [
    "#dummify count vars\n",
    "\n",
    "#def dummy(val):\n",
    "#    if val == 0:\n",
    "#        return 0\n",
    "#    else:\n",
    "#        return 1\n",
    "\n",
    "#def dummy_col(col):\n",
    "#    return col.apply(lambda x: dummy(x))\n",
    "\n",
    "#dummycols = ['Anticoagulants', 'Corticosteroids', 'NSAIDs', 'UlcerMeds',\n",
    "#             'ImagingCount', 'EKGCount', 'RestraintCount', 'ElectroylyteDisorderDX', 'DrugAbuseDX' ]\n",
    "\n",
    "#for i in range(0,len(dummycols)):\n",
    "#    data[dummycols[i]] = dummy_col(data[dummycols[i]])"
   ]
  },
  {
   "cell_type": "code",
   "execution_count": null,
   "metadata": {
    "collapsed": true
   },
   "outputs": [],
   "source": [
    "from sklearn.model_selection import train_test_split"
   ]
  },
  {
   "cell_type": "code",
   "execution_count": null,
   "metadata": {
    "collapsed": true
   },
   "outputs": [],
   "source": [
    "har = data['HSP_ACCOUNT_ID']\n",
    "data.drop(['HSP_ACCOUNT_ID', 'AdmDate', 'DischDate'], axis=1, inplace=True)\n",
    "y = data['CntAdmitsSubsequent']\n",
    "data.drop(['CntAdmitsSubsequent'], axis=1, inplace=True)\n",
    "X = data"
   ]
  },
  {
   "cell_type": "code",
   "execution_count": null,
   "metadata": {
    "collapsed": true
   },
   "outputs": [],
   "source": [
    "X_train, X_test, y_train, y_test = train_test_split(X, y, test_size=0.2, random_state=42)"
   ]
  },
  {
   "cell_type": "code",
   "execution_count": null,
   "metadata": {
    "collapsed": true
   },
   "outputs": [],
   "source": [
    "from sklearn.linear_model import LogisticRegression\n",
    "from sklearn.ensemble import RandomForestClassifier"
   ]
  },
  {
   "cell_type": "code",
   "execution_count": null,
   "metadata": {},
   "outputs": [],
   "source": [
    "logmodel = LogisticRegression(class_weight='balanced')\n",
    "logmodel.fit(X_train,y_train)\n",
    "\n",
    "cls = clf = RandomForestClassifier()\n",
    "clf.fit(X_train, y_train)"
   ]
  },
  {
   "cell_type": "code",
   "execution_count": null,
   "metadata": {
    "collapsed": true
   },
   "outputs": [],
   "source": [
    "coef = pd.DataFrame({'coef' : pd.Series(logmodel.coef_[0]), 'features' : pd.Series(X_train.columns)})"
   ]
  },
  {
   "cell_type": "code",
   "execution_count": null,
   "metadata": {
    "collapsed": true
   },
   "outputs": [],
   "source": [
    "coef = coef[['features', 'coef']]"
   ]
  },
  {
   "cell_type": "code",
   "execution_count": null,
   "metadata": {},
   "outputs": [],
   "source": [
    "coef"
   ]
  },
  {
   "cell_type": "code",
   "execution_count": null,
   "metadata": {
    "collapsed": true
   },
   "outputs": [],
   "source": [
    "predictions = logmodel.predict(X_test)\n",
    "cls_predictions = cls.predict(X_test)"
   ]
  },
  {
   "cell_type": "code",
   "execution_count": null,
   "metadata": {
    "collapsed": true
   },
   "outputs": [],
   "source": [
    "from sklearn.metrics import classification_report\n",
    "from sklearn.metrics import confusion_matrix\n",
    "from sklearn.metrics import accuracy_score\n",
    "from sklearn.metrics import roc_curve\n",
    "from sklearn.metrics import auc\n",
    "from sklearn.metrics import brier_score_loss"
   ]
  },
  {
   "cell_type": "code",
   "execution_count": null,
   "metadata": {},
   "outputs": [],
   "source": [
    "probs = logmodel.predict_proba(X_test)[:, 1]\n",
    "fpr, tpr, thresholds_auc = roc_curve(y_test, probs)\n",
    "roc_auc = auc(fpr, tpr)\n",
    "\n",
    "plt.figure(figsize=(10,10))\n",
    "plt.title('Receiver Operating Characteristic')\n",
    "plt.plot(fpr, tpr, 'b', label='AUC = %0.2f'% roc_auc)\n",
    "plt.legend(loc='lower right')\n",
    "plt.plot([0,1],[0,1], 'r--')\n",
    "plt.xlim([-0.1,1.1])\n",
    "plt.ylim([-0.1,1.1])\n",
    "plt.ylabel('True Positive Rate')\n",
    "plt.xlabel('False Positive Rate')\n",
    "plt.locator_params(nbins=6)\n",
    "plt.show"
   ]
  },
  {
   "cell_type": "code",
   "execution_count": null,
   "metadata": {},
   "outputs": [],
   "source": [
    "matrix = pd.DataFrame(data=confusion_matrix(y_test, predictions))\n",
    "matrix.columns = ['Pred No', 'Pred Yes']\n",
    "matrix.index = ['Act No', 'Act Yes']\n",
    "matrix"
   ]
  },
  {
   "cell_type": "markdown",
   "metadata": {},
   "source": [
    "<h4> % of Total Readmission Caught</h4>"
   ]
  },
  {
   "cell_type": "code",
   "execution_count": null,
   "metadata": {},
   "outputs": [],
   "source": [
    "matrix.iloc[1,1]/matrix.iloc[1,:].sum()"
   ]
  },
  {
   "cell_type": "markdown",
   "metadata": {},
   "source": [
    "<h4> False Positive Rate</h4>"
   ]
  },
  {
   "cell_type": "code",
   "execution_count": null,
   "metadata": {},
   "outputs": [],
   "source": [
    "matrix.iloc[0,1]/matrix.iloc[0,:].sum()"
   ]
  },
  {
   "cell_type": "code",
   "execution_count": null,
   "metadata": {
    "scrolled": true
   },
   "outputs": [],
   "source": [
    "print(classification_report(y_test,predictions))"
   ]
  },
  {
   "cell_type": "markdown",
   "metadata": {},
   "source": [
    "<h4> Brier Score - Peds </h4>"
   ]
  },
  {
   "cell_type": "code",
   "execution_count": null,
   "metadata": {},
   "outputs": [],
   "source": [
    "print(brier_score_loss(y_test,probs))"
   ]
  },
  {
   "cell_type": "code",
   "execution_count": null,
   "metadata": {
    "collapsed": true
   },
   "outputs": [],
   "source": [
    "peds = pd.DataFrame({'labels' : y_test, 'predictions' : probs})\n",
    "peds = pd.concat([peds, X_test], axis=1)"
   ]
  },
  {
   "cell_type": "code",
   "execution_count": null,
   "metadata": {},
   "outputs": [],
   "source": [
    "matrix = pd.DataFrame(data=confusion_matrix(y_test, cls_predictions))\n",
    "matrix.columns = ['Pred No', 'Pred Yes']\n",
    "matrix.index = ['Act No', 'Act Yes']\n",
    "matrix"
   ]
  },
  {
   "cell_type": "code",
   "execution_count": null,
   "metadata": {},
   "outputs": [],
   "source": [
    "print(classification_report(y_test,cls_predictions))"
   ]
  }
 ],
 "metadata": {
  "kernelspec": {
   "display_name": "Python 3",
   "language": "python",
   "name": "python3"
  },
  "language_info": {
   "codemirror_mode": {
    "name": "ipython",
    "version": 3
   },
   "file_extension": ".py",
   "mimetype": "text/x-python",
   "name": "python",
   "nbconvert_exporter": "python",
   "pygments_lexer": "ipython3",
   "version": "3.6.1"
  }
 },
 "nbformat": 4,
 "nbformat_minor": 1
}
