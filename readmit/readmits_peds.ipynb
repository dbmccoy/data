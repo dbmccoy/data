{
 "cells": [
  {
   "cell_type": "code",
   "execution_count": 1321,
   "metadata": {
    "collapsed": true
   },
   "outputs": [],
   "source": [
    "import pandas as pd\n",
    "import numpy as np\n",
    "import matplotlib.pyplot as plt\n",
    "import seaborn as sns\n",
    "%matplotlib inline"
   ]
  },
  {
   "cell_type": "code",
   "execution_count": 1322,
   "metadata": {
    "collapsed": true
   },
   "outputs": [],
   "source": [
    "data = pd.read_csv('readmit (1).csv')\n",
    "#data.drop('HSP_ACCOUNT_ID',axis=1,inplace=True)"
   ]
  },
  {
   "cell_type": "code",
   "execution_count": 1323,
   "metadata": {
    "collapsed": true
   },
   "outputs": [],
   "source": [
    "data = data[data['Days_Stay_Current'] >= 0]\n",
    "data = data.dropna(axis=0,how='any')\n",
    "\n",
    "def squish(val):\n",
    "    if val > 0:\n",
    "        return 1\n",
    "    else:\n",
    "        return 0\n",
    "    \n",
    "data['CntAdmitsSubsequent'] = data['CntAdmitsSubsequent'].apply(lambda x: squish(x))\n",
    "data.drop(['Corticosteroids.1'], axis=1, inplace=True)\n",
    "\n",
    "#data['EKGCount'] = data['EKGCount'].apply(lambda x: str(x))\n"
   ]
  },
  {
   "cell_type": "code",
   "execution_count": 1324,
   "metadata": {
    "collapsed": true
   },
   "outputs": [],
   "source": [
    "isPeds = False\n",
    "\n",
    "if isPeds:\n",
    "    data = data[data['Age'] <= 18]\n",
    "    data.drop(['BUNVal','CreatinineVal','PO4Val'], axis=1)\n",
    "else:\n",
    "    data = data[data['Age'] >= 18]\n",
    "    data.drop(['BUNVal'], axis=1)\n",
    "\n",
    "\n",
    "#data = data[data['HSP_ACCOUNT_ID'] >= 40000000]\n"
   ]
  },
  {
   "cell_type": "code",
   "execution_count": 1325,
   "metadata": {},
   "outputs": [
    {
     "data": {
      "text/plain": [
       "0    59159\n",
       "1     9316\n",
       "Name: CntAdmitsSubsequent, dtype: int64"
      ]
     },
     "execution_count": 1325,
     "metadata": {},
     "output_type": "execute_result"
    }
   ],
   "source": [
    "data['CntAdmitsSubsequent'].value_counts()"
   ]
  },
  {
   "cell_type": "code",
   "execution_count": 1326,
   "metadata": {},
   "outputs": [
    {
     "data": {
      "text/html": [
       "<div>\n",
       "<style>\n",
       "    .dataframe thead tr:only-child th {\n",
       "        text-align: right;\n",
       "    }\n",
       "\n",
       "    .dataframe thead th {\n",
       "        text-align: left;\n",
       "    }\n",
       "\n",
       "    .dataframe tbody tr th {\n",
       "        vertical-align: top;\n",
       "    }\n",
       "</style>\n",
       "<table border=\"1\" class=\"dataframe\">\n",
       "  <thead>\n",
       "    <tr style=\"text-align: right;\">\n",
       "      <th></th>\n",
       "      <th>HSP_ACCOUNT_ID</th>\n",
       "      <th>Age</th>\n",
       "      <th>AdmDate</th>\n",
       "      <th>DischDate</th>\n",
       "      <th>CntAdmitsSubsequent</th>\n",
       "      <th>NumberActiveMedOrders</th>\n",
       "      <th>Days_Stay_Current</th>\n",
       "      <th>CntComorbidityDXLast12Months</th>\n",
       "      <th>CntNumPastEDVisits</th>\n",
       "      <th>FutureAppts</th>\n",
       "      <th>...</th>\n",
       "      <th>UlcerMeds</th>\n",
       "      <th>ImagingCount</th>\n",
       "      <th>EKGCount</th>\n",
       "      <th>RestraintCount</th>\n",
       "      <th>CancerDX</th>\n",
       "      <th>ElectroylyteDisorderDX</th>\n",
       "      <th>DeficiencyAnemiaDX</th>\n",
       "      <th>RenalFailureDX</th>\n",
       "      <th>LOSge10Last12Month</th>\n",
       "      <th>DrugAbuseDX</th>\n",
       "    </tr>\n",
       "  </thead>\n",
       "  <tbody>\n",
       "    <tr>\n",
       "      <th>0</th>\n",
       "      <td>20673302</td>\n",
       "      <td>18</td>\n",
       "      <td>7/17/2016</td>\n",
       "      <td>10/7/2016</td>\n",
       "      <td>0</td>\n",
       "      <td>83</td>\n",
       "      <td>82.0</td>\n",
       "      <td>0</td>\n",
       "      <td>1</td>\n",
       "      <td>0</td>\n",
       "      <td>...</td>\n",
       "      <td>1</td>\n",
       "      <td>1</td>\n",
       "      <td>1</td>\n",
       "      <td>0</td>\n",
       "      <td>0</td>\n",
       "      <td>0</td>\n",
       "      <td>0</td>\n",
       "      <td>0</td>\n",
       "      <td>0</td>\n",
       "      <td>0</td>\n",
       "    </tr>\n",
       "    <tr>\n",
       "      <th>1</th>\n",
       "      <td>20711863</td>\n",
       "      <td>57</td>\n",
       "      <td>9/23/2016</td>\n",
       "      <td>10/3/2016</td>\n",
       "      <td>0</td>\n",
       "      <td>63</td>\n",
       "      <td>10.0</td>\n",
       "      <td>0</td>\n",
       "      <td>5</td>\n",
       "      <td>0</td>\n",
       "      <td>...</td>\n",
       "      <td>1</td>\n",
       "      <td>1</td>\n",
       "      <td>1</td>\n",
       "      <td>1</td>\n",
       "      <td>0</td>\n",
       "      <td>1</td>\n",
       "      <td>0</td>\n",
       "      <td>0</td>\n",
       "      <td>0</td>\n",
       "      <td>0</td>\n",
       "    </tr>\n",
       "    <tr>\n",
       "      <th>2</th>\n",
       "      <td>20714113</td>\n",
       "      <td>60</td>\n",
       "      <td>9/27/2016</td>\n",
       "      <td>10/3/2016</td>\n",
       "      <td>0</td>\n",
       "      <td>32</td>\n",
       "      <td>6.0</td>\n",
       "      <td>0</td>\n",
       "      <td>4</td>\n",
       "      <td>0</td>\n",
       "      <td>...</td>\n",
       "      <td>1</td>\n",
       "      <td>1</td>\n",
       "      <td>0</td>\n",
       "      <td>0</td>\n",
       "      <td>1</td>\n",
       "      <td>1</td>\n",
       "      <td>0</td>\n",
       "      <td>0</td>\n",
       "      <td>0</td>\n",
       "      <td>1</td>\n",
       "    </tr>\n",
       "    <tr>\n",
       "      <th>3</th>\n",
       "      <td>20715188</td>\n",
       "      <td>24</td>\n",
       "      <td>9/28/2016</td>\n",
       "      <td>10/12/2016</td>\n",
       "      <td>1</td>\n",
       "      <td>28</td>\n",
       "      <td>9.0</td>\n",
       "      <td>0</td>\n",
       "      <td>1</td>\n",
       "      <td>0</td>\n",
       "      <td>...</td>\n",
       "      <td>0</td>\n",
       "      <td>0</td>\n",
       "      <td>0</td>\n",
       "      <td>0</td>\n",
       "      <td>0</td>\n",
       "      <td>0</td>\n",
       "      <td>0</td>\n",
       "      <td>0</td>\n",
       "      <td>0</td>\n",
       "      <td>0</td>\n",
       "    </tr>\n",
       "    <tr>\n",
       "      <th>4</th>\n",
       "      <td>20715259</td>\n",
       "      <td>28</td>\n",
       "      <td>9/29/2016</td>\n",
       "      <td>10/1/2016</td>\n",
       "      <td>0</td>\n",
       "      <td>26</td>\n",
       "      <td>2.0</td>\n",
       "      <td>0</td>\n",
       "      <td>0</td>\n",
       "      <td>1</td>\n",
       "      <td>...</td>\n",
       "      <td>1</td>\n",
       "      <td>0</td>\n",
       "      <td>0</td>\n",
       "      <td>0</td>\n",
       "      <td>0</td>\n",
       "      <td>0</td>\n",
       "      <td>0</td>\n",
       "      <td>0</td>\n",
       "      <td>0</td>\n",
       "      <td>0</td>\n",
       "    </tr>\n",
       "  </tbody>\n",
       "</table>\n",
       "<p>5 rows × 30 columns</p>\n",
       "</div>"
      ],
      "text/plain": [
       "   HSP_ACCOUNT_ID  Age    AdmDate   DischDate  CntAdmitsSubsequent  \\\n",
       "0        20673302   18  7/17/2016   10/7/2016                    0   \n",
       "1        20711863   57  9/23/2016   10/3/2016                    0   \n",
       "2        20714113   60  9/27/2016   10/3/2016                    0   \n",
       "3        20715188   24  9/28/2016  10/12/2016                    1   \n",
       "4        20715259   28  9/29/2016   10/1/2016                    0   \n",
       "\n",
       "   NumberActiveMedOrders  Days_Stay_Current  CntComorbidityDXLast12Months  \\\n",
       "0                     83               82.0                             0   \n",
       "1                     63               10.0                             0   \n",
       "2                     32                6.0                             0   \n",
       "3                     28                9.0                             0   \n",
       "4                     26                2.0                             0   \n",
       "\n",
       "   CntNumPastEDVisits  FutureAppts     ...       UlcerMeds  ImagingCount  \\\n",
       "0                   1            0     ...               1             1   \n",
       "1                   5            0     ...               1             1   \n",
       "2                   4            0     ...               1             1   \n",
       "3                   1            0     ...               0             0   \n",
       "4                   0            1     ...               1             0   \n",
       "\n",
       "   EKGCount  RestraintCount  CancerDX  ElectroylyteDisorderDX  \\\n",
       "0         1               0         0                       0   \n",
       "1         1               1         0                       1   \n",
       "2         0               0         1                       1   \n",
       "3         0               0         0                       0   \n",
       "4         0               0         0                       0   \n",
       "\n",
       "   DeficiencyAnemiaDX  RenalFailureDX  LOSge10Last12Month  DrugAbuseDX  \n",
       "0                   0               0                   0            0  \n",
       "1                   0               0                   0            0  \n",
       "2                   0               0                   0            1  \n",
       "3                   0               0                   0            0  \n",
       "4                   0               0                   0            0  \n",
       "\n",
       "[5 rows x 30 columns]"
      ]
     },
     "execution_count": 1326,
     "metadata": {},
     "output_type": "execute_result"
    }
   ],
   "source": [
    "data.head()"
   ]
  },
  {
   "cell_type": "code",
   "execution_count": 1327,
   "metadata": {
    "scrolled": false
   },
   "outputs": [
    {
     "data": {
      "text/html": [
       "<div>\n",
       "<style>\n",
       "    .dataframe thead tr:only-child th {\n",
       "        text-align: right;\n",
       "    }\n",
       "\n",
       "    .dataframe thead th {\n",
       "        text-align: left;\n",
       "    }\n",
       "\n",
       "    .dataframe tbody tr th {\n",
       "        vertical-align: top;\n",
       "    }\n",
       "</style>\n",
       "<table border=\"1\" class=\"dataframe\">\n",
       "  <thead>\n",
       "    <tr style=\"text-align: right;\">\n",
       "      <th></th>\n",
       "      <th>HSP_ACCOUNT_ID</th>\n",
       "      <th>Age</th>\n",
       "      <th>CntAdmitsSubsequent</th>\n",
       "      <th>NumberActiveMedOrders</th>\n",
       "      <th>Days_Stay_Current</th>\n",
       "      <th>CntComorbidityDXLast12Months</th>\n",
       "      <th>CntNumPastEDVisits</th>\n",
       "      <th>FutureAppts</th>\n",
       "      <th>HemoglobinVal</th>\n",
       "      <th>CalciumVal</th>\n",
       "      <th>...</th>\n",
       "      <th>UlcerMeds</th>\n",
       "      <th>ImagingCount</th>\n",
       "      <th>EKGCount</th>\n",
       "      <th>RestraintCount</th>\n",
       "      <th>CancerDX</th>\n",
       "      <th>ElectroylyteDisorderDX</th>\n",
       "      <th>DeficiencyAnemiaDX</th>\n",
       "      <th>RenalFailureDX</th>\n",
       "      <th>LOSge10Last12Month</th>\n",
       "      <th>DrugAbuseDX</th>\n",
       "    </tr>\n",
       "  </thead>\n",
       "  <tbody>\n",
       "    <tr>\n",
       "      <th>count</th>\n",
       "      <td>6.847500e+04</td>\n",
       "      <td>68475.000000</td>\n",
       "      <td>68475.000000</td>\n",
       "      <td>68475.000000</td>\n",
       "      <td>68475.000000</td>\n",
       "      <td>68475.000000</td>\n",
       "      <td>68475.000000</td>\n",
       "      <td>68475.000000</td>\n",
       "      <td>68475.000000</td>\n",
       "      <td>68475.000000</td>\n",
       "      <td>...</td>\n",
       "      <td>68475.000000</td>\n",
       "      <td>68475.000000</td>\n",
       "      <td>68475.000000</td>\n",
       "      <td>68475.000000</td>\n",
       "      <td>68475.000000</td>\n",
       "      <td>68475.000000</td>\n",
       "      <td>68475.000000</td>\n",
       "      <td>68475.000000</td>\n",
       "      <td>68475.000000</td>\n",
       "      <td>68475.000000</td>\n",
       "    </tr>\n",
       "    <tr>\n",
       "      <th>mean</th>\n",
       "      <td>3.891440e+07</td>\n",
       "      <td>47.140007</td>\n",
       "      <td>0.136050</td>\n",
       "      <td>46.225863</td>\n",
       "      <td>5.658532</td>\n",
       "      <td>0.186798</td>\n",
       "      <td>1.886937</td>\n",
       "      <td>0.327915</td>\n",
       "      <td>0.156612</td>\n",
       "      <td>0.004819</td>\n",
       "      <td>...</td>\n",
       "      <td>0.626740</td>\n",
       "      <td>0.720190</td>\n",
       "      <td>0.541307</td>\n",
       "      <td>0.105119</td>\n",
       "      <td>0.100241</td>\n",
       "      <td>0.085330</td>\n",
       "      <td>0.000277</td>\n",
       "      <td>0.031355</td>\n",
       "      <td>0.089346</td>\n",
       "      <td>0.038832</td>\n",
       "    </tr>\n",
       "    <tr>\n",
       "      <th>std</th>\n",
       "      <td>9.819483e+06</td>\n",
       "      <td>17.098450</td>\n",
       "      <td>0.342844</td>\n",
       "      <td>41.899501</td>\n",
       "      <td>9.029245</td>\n",
       "      <td>1.063111</td>\n",
       "      <td>6.649610</td>\n",
       "      <td>0.469457</td>\n",
       "      <td>0.363437</td>\n",
       "      <td>0.069254</td>\n",
       "      <td>...</td>\n",
       "      <td>0.483674</td>\n",
       "      <td>0.448909</td>\n",
       "      <td>0.498294</td>\n",
       "      <td>0.306708</td>\n",
       "      <td>0.300323</td>\n",
       "      <td>0.279375</td>\n",
       "      <td>0.016655</td>\n",
       "      <td>0.174275</td>\n",
       "      <td>0.285245</td>\n",
       "      <td>0.193195</td>\n",
       "    </tr>\n",
       "    <tr>\n",
       "      <th>min</th>\n",
       "      <td>2.026316e+07</td>\n",
       "      <td>18.000000</td>\n",
       "      <td>0.000000</td>\n",
       "      <td>0.000000</td>\n",
       "      <td>0.000000</td>\n",
       "      <td>0.000000</td>\n",
       "      <td>0.000000</td>\n",
       "      <td>0.000000</td>\n",
       "      <td>0.000000</td>\n",
       "      <td>0.000000</td>\n",
       "      <td>...</td>\n",
       "      <td>0.000000</td>\n",
       "      <td>0.000000</td>\n",
       "      <td>0.000000</td>\n",
       "      <td>0.000000</td>\n",
       "      <td>0.000000</td>\n",
       "      <td>0.000000</td>\n",
       "      <td>0.000000</td>\n",
       "      <td>0.000000</td>\n",
       "      <td>0.000000</td>\n",
       "      <td>0.000000</td>\n",
       "    </tr>\n",
       "    <tr>\n",
       "      <th>25%</th>\n",
       "      <td>4.147635e+07</td>\n",
       "      <td>32.000000</td>\n",
       "      <td>0.000000</td>\n",
       "      <td>23.000000</td>\n",
       "      <td>2.000000</td>\n",
       "      <td>0.000000</td>\n",
       "      <td>0.000000</td>\n",
       "      <td>0.000000</td>\n",
       "      <td>0.000000</td>\n",
       "      <td>0.000000</td>\n",
       "      <td>...</td>\n",
       "      <td>0.000000</td>\n",
       "      <td>0.000000</td>\n",
       "      <td>0.000000</td>\n",
       "      <td>0.000000</td>\n",
       "      <td>0.000000</td>\n",
       "      <td>0.000000</td>\n",
       "      <td>0.000000</td>\n",
       "      <td>0.000000</td>\n",
       "      <td>0.000000</td>\n",
       "      <td>0.000000</td>\n",
       "    </tr>\n",
       "    <tr>\n",
       "      <th>50%</th>\n",
       "      <td>4.204044e+07</td>\n",
       "      <td>48.000000</td>\n",
       "      <td>0.000000</td>\n",
       "      <td>35.000000</td>\n",
       "      <td>3.000000</td>\n",
       "      <td>0.000000</td>\n",
       "      <td>0.000000</td>\n",
       "      <td>0.000000</td>\n",
       "      <td>0.000000</td>\n",
       "      <td>0.000000</td>\n",
       "      <td>...</td>\n",
       "      <td>1.000000</td>\n",
       "      <td>1.000000</td>\n",
       "      <td>1.000000</td>\n",
       "      <td>0.000000</td>\n",
       "      <td>0.000000</td>\n",
       "      <td>0.000000</td>\n",
       "      <td>0.000000</td>\n",
       "      <td>0.000000</td>\n",
       "      <td>0.000000</td>\n",
       "      <td>0.000000</td>\n",
       "    </tr>\n",
       "    <tr>\n",
       "      <th>75%</th>\n",
       "      <td>4.267214e+07</td>\n",
       "      <td>60.000000</td>\n",
       "      <td>0.000000</td>\n",
       "      <td>56.000000</td>\n",
       "      <td>6.000000</td>\n",
       "      <td>0.000000</td>\n",
       "      <td>2.000000</td>\n",
       "      <td>1.000000</td>\n",
       "      <td>0.000000</td>\n",
       "      <td>0.000000</td>\n",
       "      <td>...</td>\n",
       "      <td>1.000000</td>\n",
       "      <td>1.000000</td>\n",
       "      <td>1.000000</td>\n",
       "      <td>0.000000</td>\n",
       "      <td>0.000000</td>\n",
       "      <td>0.000000</td>\n",
       "      <td>0.000000</td>\n",
       "      <td>0.000000</td>\n",
       "      <td>0.000000</td>\n",
       "      <td>0.000000</td>\n",
       "    </tr>\n",
       "    <tr>\n",
       "      <th>max</th>\n",
       "      <td>7.021894e+07</td>\n",
       "      <td>117.000000</td>\n",
       "      <td>1.000000</td>\n",
       "      <td>1242.000000</td>\n",
       "      <td>876.000000</td>\n",
       "      <td>24.000000</td>\n",
       "      <td>170.000000</td>\n",
       "      <td>1.000000</td>\n",
       "      <td>1.000000</td>\n",
       "      <td>1.000000</td>\n",
       "      <td>...</td>\n",
       "      <td>1.000000</td>\n",
       "      <td>1.000000</td>\n",
       "      <td>1.000000</td>\n",
       "      <td>1.000000</td>\n",
       "      <td>1.000000</td>\n",
       "      <td>1.000000</td>\n",
       "      <td>1.000000</td>\n",
       "      <td>1.000000</td>\n",
       "      <td>1.000000</td>\n",
       "      <td>1.000000</td>\n",
       "    </tr>\n",
       "  </tbody>\n",
       "</table>\n",
       "<p>8 rows × 28 columns</p>\n",
       "</div>"
      ],
      "text/plain": [
       "       HSP_ACCOUNT_ID           Age  CntAdmitsSubsequent  \\\n",
       "count    6.847500e+04  68475.000000         68475.000000   \n",
       "mean     3.891440e+07     47.140007             0.136050   \n",
       "std      9.819483e+06     17.098450             0.342844   \n",
       "min      2.026316e+07     18.000000             0.000000   \n",
       "25%      4.147635e+07     32.000000             0.000000   \n",
       "50%      4.204044e+07     48.000000             0.000000   \n",
       "75%      4.267214e+07     60.000000             0.000000   \n",
       "max      7.021894e+07    117.000000             1.000000   \n",
       "\n",
       "       NumberActiveMedOrders  Days_Stay_Current  CntComorbidityDXLast12Months  \\\n",
       "count           68475.000000       68475.000000                  68475.000000   \n",
       "mean               46.225863           5.658532                      0.186798   \n",
       "std                41.899501           9.029245                      1.063111   \n",
       "min                 0.000000           0.000000                      0.000000   \n",
       "25%                23.000000           2.000000                      0.000000   \n",
       "50%                35.000000           3.000000                      0.000000   \n",
       "75%                56.000000           6.000000                      0.000000   \n",
       "max              1242.000000         876.000000                     24.000000   \n",
       "\n",
       "       CntNumPastEDVisits   FutureAppts  HemoglobinVal    CalciumVal  \\\n",
       "count        68475.000000  68475.000000   68475.000000  68475.000000   \n",
       "mean             1.886937      0.327915       0.156612      0.004819   \n",
       "std              6.649610      0.469457       0.363437      0.069254   \n",
       "min              0.000000      0.000000       0.000000      0.000000   \n",
       "25%              0.000000      0.000000       0.000000      0.000000   \n",
       "50%              0.000000      0.000000       0.000000      0.000000   \n",
       "75%              2.000000      1.000000       0.000000      0.000000   \n",
       "max            170.000000      1.000000       1.000000      1.000000   \n",
       "\n",
       "           ...          UlcerMeds  ImagingCount      EKGCount  RestraintCount  \\\n",
       "count      ...       68475.000000  68475.000000  68475.000000    68475.000000   \n",
       "mean       ...           0.626740      0.720190      0.541307        0.105119   \n",
       "std        ...           0.483674      0.448909      0.498294        0.306708   \n",
       "min        ...           0.000000      0.000000      0.000000        0.000000   \n",
       "25%        ...           0.000000      0.000000      0.000000        0.000000   \n",
       "50%        ...           1.000000      1.000000      1.000000        0.000000   \n",
       "75%        ...           1.000000      1.000000      1.000000        0.000000   \n",
       "max        ...           1.000000      1.000000      1.000000        1.000000   \n",
       "\n",
       "           CancerDX  ElectroylyteDisorderDX  DeficiencyAnemiaDX  \\\n",
       "count  68475.000000            68475.000000        68475.000000   \n",
       "mean       0.100241                0.085330            0.000277   \n",
       "std        0.300323                0.279375            0.016655   \n",
       "min        0.000000                0.000000            0.000000   \n",
       "25%        0.000000                0.000000            0.000000   \n",
       "50%        0.000000                0.000000            0.000000   \n",
       "75%        0.000000                0.000000            0.000000   \n",
       "max        1.000000                1.000000            1.000000   \n",
       "\n",
       "       RenalFailureDX  LOSge10Last12Month   DrugAbuseDX  \n",
       "count    68475.000000        68475.000000  68475.000000  \n",
       "mean         0.031355            0.089346      0.038832  \n",
       "std          0.174275            0.285245      0.193195  \n",
       "min          0.000000            0.000000      0.000000  \n",
       "25%          0.000000            0.000000      0.000000  \n",
       "50%          0.000000            0.000000      0.000000  \n",
       "75%          0.000000            0.000000      0.000000  \n",
       "max          1.000000            1.000000      1.000000  \n",
       "\n",
       "[8 rows x 28 columns]"
      ]
     },
     "execution_count": 1327,
     "metadata": {},
     "output_type": "execute_result"
    }
   ],
   "source": [
    "data.describe()"
   ]
  },
  {
   "cell_type": "code",
   "execution_count": 1328,
   "metadata": {
    "collapsed": true
   },
   "outputs": [],
   "source": [
    "#data.info()"
   ]
  },
  {
   "cell_type": "code",
   "execution_count": 1329,
   "metadata": {
    "collapsed": true
   },
   "outputs": [],
   "source": [
    "#dummify count vars\n",
    "\n",
    "#def dummy(val):\n",
    "#    if val == 0:\n",
    "#        return 0\n",
    "#    else:\n",
    "#        return 1\n",
    "\n",
    "#def dummy_col(col):\n",
    "#    return col.apply(lambda x: dummy(x))\n",
    "\n",
    "#dummycols = ['Anticoagulants', 'Corticosteroids', 'NSAIDs', 'UlcerMeds',\n",
    "#             'ImagingCount', 'EKGCount', 'RestraintCount', 'ElectroylyteDisorderDX', 'DrugAbuseDX' ]\n",
    "\n",
    "#for i in range(0,len(dummycols)):\n",
    "#    data[dummycols[i]] = dummy_col(data[dummycols[i]])"
   ]
  },
  {
   "cell_type": "code",
   "execution_count": 1330,
   "metadata": {
    "collapsed": true
   },
   "outputs": [],
   "source": [
    "from sklearn.model_selection import train_test_split"
   ]
  },
  {
   "cell_type": "code",
   "execution_count": null,
   "metadata": {
    "collapsed": true
   },
   "outputs": [],
   "source": []
  },
  {
   "cell_type": "code",
   "execution_count": 1331,
   "metadata": {
    "collapsed": true
   },
   "outputs": [],
   "source": [
    "har = data['HSP_ACCOUNT_ID']\n",
    "data.drop(['HSP_ACCOUNT_ID', 'AdmDate', 'DischDate'], axis=1, inplace=True)\n",
    "y = data['CntAdmitsSubsequent']\n",
    "data.drop(['CntAdmitsSubsequent'], axis=1, inplace=True)\n",
    "X = data"
   ]
  },
  {
   "cell_type": "code",
   "execution_count": 1332,
   "metadata": {
    "collapsed": true
   },
   "outputs": [],
   "source": [
    "X_train, X_test, y_train, y_test = train_test_split(X, y, test_size=0.3)"
   ]
  },
  {
   "cell_type": "code",
   "execution_count": 1333,
   "metadata": {
    "collapsed": true
   },
   "outputs": [],
   "source": [
    "from sklearn.linear_model import LogisticRegression\n",
    "from sklearn.ensemble import RandomForestClassifier"
   ]
  },
  {
   "cell_type": "code",
   "execution_count": 1334,
   "metadata": {},
   "outputs": [
    {
     "data": {
      "text/plain": [
       "LogisticRegression(C=1.0, class_weight='balanced', dual=False,\n",
       "          fit_intercept=True, intercept_scaling=1, max_iter=100,\n",
       "          multi_class='ovr', n_jobs=1, penalty='l2', random_state=None,\n",
       "          solver='liblinear', tol=0.0001, verbose=0, warm_start=False)"
      ]
     },
     "execution_count": 1334,
     "metadata": {},
     "output_type": "execute_result"
    }
   ],
   "source": [
    "logmodel = LogisticRegression(class_weight='balanced')\n",
    "logmodel.fit(X_train,y_train)\n"
   ]
  },
  {
   "cell_type": "code",
   "execution_count": 1335,
   "metadata": {
    "collapsed": true
   },
   "outputs": [],
   "source": [
    "coef = pd.DataFrame({'coef' : pd.Series(logmodel.coef_[0]), 'features' : pd.Series(X_train.columns)})"
   ]
  },
  {
   "cell_type": "code",
   "execution_count": 1336,
   "metadata": {
    "collapsed": true
   },
   "outputs": [],
   "source": [
    "coef = coef[['features', 'coef']]"
   ]
  },
  {
   "cell_type": "code",
   "execution_count": 1337,
   "metadata": {
    "scrolled": true
   },
   "outputs": [
    {
     "data": {
      "text/html": [
       "<div>\n",
       "<style>\n",
       "    .dataframe thead tr:only-child th {\n",
       "        text-align: right;\n",
       "    }\n",
       "\n",
       "    .dataframe thead th {\n",
       "        text-align: left;\n",
       "    }\n",
       "\n",
       "    .dataframe tbody tr th {\n",
       "        vertical-align: top;\n",
       "    }\n",
       "</style>\n",
       "<table border=\"1\" class=\"dataframe\">\n",
       "  <thead>\n",
       "    <tr style=\"text-align: right;\">\n",
       "      <th></th>\n",
       "      <th>features</th>\n",
       "      <th>coef</th>\n",
       "    </tr>\n",
       "  </thead>\n",
       "  <tbody>\n",
       "    <tr>\n",
       "      <th>0</th>\n",
       "      <td>Age</td>\n",
       "      <td>-0.004366</td>\n",
       "    </tr>\n",
       "    <tr>\n",
       "      <th>1</th>\n",
       "      <td>NumberActiveMedOrders</td>\n",
       "      <td>-0.001055</td>\n",
       "    </tr>\n",
       "    <tr>\n",
       "      <th>2</th>\n",
       "      <td>Days_Stay_Current</td>\n",
       "      <td>0.002173</td>\n",
       "    </tr>\n",
       "    <tr>\n",
       "      <th>3</th>\n",
       "      <td>CntComorbidityDXLast12Months</td>\n",
       "      <td>0.026679</td>\n",
       "    </tr>\n",
       "    <tr>\n",
       "      <th>4</th>\n",
       "      <td>CntNumPastEDVisits</td>\n",
       "      <td>0.069177</td>\n",
       "    </tr>\n",
       "    <tr>\n",
       "      <th>5</th>\n",
       "      <td>FutureAppts</td>\n",
       "      <td>-0.115441</td>\n",
       "    </tr>\n",
       "    <tr>\n",
       "      <th>6</th>\n",
       "      <td>HemoglobinVal</td>\n",
       "      <td>-0.140886</td>\n",
       "    </tr>\n",
       "    <tr>\n",
       "      <th>7</th>\n",
       "      <td>CalciumVal</td>\n",
       "      <td>0.206042</td>\n",
       "    </tr>\n",
       "    <tr>\n",
       "      <th>8</th>\n",
       "      <td>BUNVal</td>\n",
       "      <td>-0.738373</td>\n",
       "    </tr>\n",
       "    <tr>\n",
       "      <th>9</th>\n",
       "      <td>CreatinineVal</td>\n",
       "      <td>0.065737</td>\n",
       "    </tr>\n",
       "    <tr>\n",
       "      <th>10</th>\n",
       "      <td>PO4Val</td>\n",
       "      <td>0.312119</td>\n",
       "    </tr>\n",
       "    <tr>\n",
       "      <th>11</th>\n",
       "      <td>INRVal</td>\n",
       "      <td>0.341182</td>\n",
       "    </tr>\n",
       "    <tr>\n",
       "      <th>12</th>\n",
       "      <td>Anticoagulants</td>\n",
       "      <td>0.338752</td>\n",
       "    </tr>\n",
       "    <tr>\n",
       "      <th>13</th>\n",
       "      <td>Corticosteroids</td>\n",
       "      <td>0.304166</td>\n",
       "    </tr>\n",
       "    <tr>\n",
       "      <th>14</th>\n",
       "      <td>NSAIDs</td>\n",
       "      <td>-0.427981</td>\n",
       "    </tr>\n",
       "    <tr>\n",
       "      <th>15</th>\n",
       "      <td>AntiPsych</td>\n",
       "      <td>0.201425</td>\n",
       "    </tr>\n",
       "    <tr>\n",
       "      <th>16</th>\n",
       "      <td>UlcerMeds</td>\n",
       "      <td>-0.089076</td>\n",
       "    </tr>\n",
       "    <tr>\n",
       "      <th>17</th>\n",
       "      <td>ImagingCount</td>\n",
       "      <td>0.172165</td>\n",
       "    </tr>\n",
       "    <tr>\n",
       "      <th>18</th>\n",
       "      <td>EKGCount</td>\n",
       "      <td>0.135567</td>\n",
       "    </tr>\n",
       "    <tr>\n",
       "      <th>19</th>\n",
       "      <td>RestraintCount</td>\n",
       "      <td>-0.162044</td>\n",
       "    </tr>\n",
       "    <tr>\n",
       "      <th>20</th>\n",
       "      <td>CancerDX</td>\n",
       "      <td>0.640103</td>\n",
       "    </tr>\n",
       "    <tr>\n",
       "      <th>21</th>\n",
       "      <td>ElectroylyteDisorderDX</td>\n",
       "      <td>0.077051</td>\n",
       "    </tr>\n",
       "    <tr>\n",
       "      <th>22</th>\n",
       "      <td>DeficiencyAnemiaDX</td>\n",
       "      <td>0.889408</td>\n",
       "    </tr>\n",
       "    <tr>\n",
       "      <th>23</th>\n",
       "      <td>RenalFailureDX</td>\n",
       "      <td>0.397647</td>\n",
       "    </tr>\n",
       "    <tr>\n",
       "      <th>24</th>\n",
       "      <td>LOSge10Last12Month</td>\n",
       "      <td>0.738795</td>\n",
       "    </tr>\n",
       "    <tr>\n",
       "      <th>25</th>\n",
       "      <td>DrugAbuseDX</td>\n",
       "      <td>0.504794</td>\n",
       "    </tr>\n",
       "  </tbody>\n",
       "</table>\n",
       "</div>"
      ],
      "text/plain": [
       "                        features      coef\n",
       "0                            Age -0.004366\n",
       "1          NumberActiveMedOrders -0.001055\n",
       "2              Days_Stay_Current  0.002173\n",
       "3   CntComorbidityDXLast12Months  0.026679\n",
       "4             CntNumPastEDVisits  0.069177\n",
       "5                    FutureAppts -0.115441\n",
       "6                  HemoglobinVal -0.140886\n",
       "7                     CalciumVal  0.206042\n",
       "8                         BUNVal -0.738373\n",
       "9                  CreatinineVal  0.065737\n",
       "10                        PO4Val  0.312119\n",
       "11                        INRVal  0.341182\n",
       "12                Anticoagulants  0.338752\n",
       "13               Corticosteroids  0.304166\n",
       "14                        NSAIDs -0.427981\n",
       "15                     AntiPsych  0.201425\n",
       "16                     UlcerMeds -0.089076\n",
       "17                  ImagingCount  0.172165\n",
       "18                      EKGCount  0.135567\n",
       "19                RestraintCount -0.162044\n",
       "20                      CancerDX  0.640103\n",
       "21        ElectroylyteDisorderDX  0.077051\n",
       "22            DeficiencyAnemiaDX  0.889408\n",
       "23                RenalFailureDX  0.397647\n",
       "24            LOSge10Last12Month  0.738795\n",
       "25                   DrugAbuseDX  0.504794"
      ]
     },
     "execution_count": 1337,
     "metadata": {},
     "output_type": "execute_result"
    }
   ],
   "source": [
    "coef"
   ]
  },
  {
   "cell_type": "code",
   "execution_count": 1338,
   "metadata": {
    "collapsed": true
   },
   "outputs": [],
   "source": [
    "predictions = logmodel.predict(X_test)\n",
    "train_predictions = logmodel.predict(X_train)\n"
   ]
  },
  {
   "cell_type": "code",
   "execution_count": 1339,
   "metadata": {
    "collapsed": true
   },
   "outputs": [],
   "source": [
    "from sklearn.metrics import classification_report\n",
    "from sklearn.metrics import confusion_matrix\n",
    "from sklearn.metrics import accuracy_score\n",
    "from sklearn.metrics import roc_curve\n",
    "from sklearn.metrics import auc\n",
    "from sklearn.metrics import brier_score_loss"
   ]
  },
  {
   "cell_type": "code",
   "execution_count": 1340,
   "metadata": {},
   "outputs": [
    {
     "data": {
      "text/plain": [
       "<function matplotlib.pyplot.show>"
      ]
     },
     "execution_count": 1340,
     "metadata": {},
     "output_type": "execute_result"
    },
    {
     "data": {
      "image/png": "[encoded data removed]",
      "text/plain": [
       "<matplotlib.figure.Figure at 0x29f8126dc88>"
      ]
     },
     "metadata": {},
     "output_type": "display_data"
    }
   ],
   "source": [
    "probs = logmodel.predict_proba(X_test)[:, 1]\n",
    "probs_train = logmodel.predict_proba(X_train)[:,1]\n",
    "\n",
    "fpr, tpr, thresholds_auc = roc_curve(y_test, probs)\n",
    "roc_auc = auc(fpr, tpr)\n",
    "\n",
    "plt.figure(figsize=(10,10))\n",
    "plt.title('Receiver Operating Characteristic')\n",
    "plt.plot(fpr, tpr, 'b', label='AUC = %0.2f'% roc_auc)\n",
    "plt.legend(loc='lower right')\n",
    "plt.plot([0,1],[0,1], 'r--')\n",
    "plt.xlim([-0.1,1.1])\n",
    "plt.ylim([-0.1,1.1])\n",
    "plt.ylabel('True Positive Rate')\n",
    "plt.xlabel('False Positive Rate')\n",
    "plt.locator_params(nbins=6)\n",
    "plt.show"
   ]
  },
  {
   "cell_type": "code",
   "execution_count": 1341,
   "metadata": {
    "collapsed": true
   },
   "outputs": [],
   "source": [
    "har = har[0:4461]"
   ]
  },
  {
   "cell_type": "code",
   "execution_count": 1342,
   "metadata": {
    "scrolled": true
   },
   "outputs": [],
   "source": [
    "#dash = pd.DataFrame({'HAR' : har, 'Readmit Risk' : probs, 'Outcome' : y_test})"
   ]
  },
  {
   "cell_type": "code",
   "execution_count": 1343,
   "metadata": {},
   "outputs": [
    {
     "data": {
      "text/html": [
       "<div>\n",
       "<style>\n",
       "    .dataframe thead tr:only-child th {\n",
       "        text-align: right;\n",
       "    }\n",
       "\n",
       "    .dataframe thead th {\n",
       "        text-align: left;\n",
       "    }\n",
       "\n",
       "    .dataframe tbody tr th {\n",
       "        vertical-align: top;\n",
       "    }\n",
       "</style>\n",
       "<table border=\"1\" class=\"dataframe\">\n",
       "  <thead>\n",
       "    <tr style=\"text-align: right;\">\n",
       "      <th></th>\n",
       "      <th>HAR</th>\n",
       "      <th>Readmit Risk</th>\n",
       "    </tr>\n",
       "  </thead>\n",
       "  <tbody>\n",
       "    <tr>\n",
       "      <th>0</th>\n",
       "      <td>20673302</td>\n",
       "      <td>0.555620</td>\n",
       "    </tr>\n",
       "    <tr>\n",
       "      <th>7</th>\n",
       "      <td>20715876</td>\n",
       "      <td>0.416971</td>\n",
       "    </tr>\n",
       "    <tr>\n",
       "      <th>11</th>\n",
       "      <td>20717062</td>\n",
       "      <td>0.562359</td>\n",
       "    </tr>\n",
       "    <tr>\n",
       "      <th>12</th>\n",
       "      <td>20717063</td>\n",
       "      <td>0.276276</td>\n",
       "    </tr>\n",
       "    <tr>\n",
       "      <th>26</th>\n",
       "      <td>20724194</td>\n",
       "      <td>0.351055</td>\n",
       "    </tr>\n",
       "    <tr>\n",
       "      <th>27</th>\n",
       "      <td>20725049</td>\n",
       "      <td>0.486961</td>\n",
       "    </tr>\n",
       "    <tr>\n",
       "      <th>34</th>\n",
       "      <td>20715970</td>\n",
       "      <td>0.741473</td>\n",
       "    </tr>\n",
       "    <tr>\n",
       "      <th>42</th>\n",
       "      <td>20718804</td>\n",
       "      <td>0.541136</td>\n",
       "    </tr>\n",
       "    <tr>\n",
       "      <th>47</th>\n",
       "      <td>20721608</td>\n",
       "      <td>0.342750</td>\n",
       "    </tr>\n",
       "    <tr>\n",
       "      <th>53</th>\n",
       "      <td>20724013</td>\n",
       "      <td>0.342648</td>\n",
       "    </tr>\n",
       "  </tbody>\n",
       "</table>\n",
       "</div>"
      ],
      "text/plain": [
       "         HAR  Readmit Risk\n",
       "0   20673302      0.555620\n",
       "7   20715876      0.416971\n",
       "11  20717062      0.562359\n",
       "12  20717063      0.276276\n",
       "26  20724194      0.351055\n",
       "27  20725049      0.486961\n",
       "34  20715970      0.741473\n",
       "42  20718804      0.541136\n",
       "47  20721608      0.342750\n",
       "53  20724013      0.342648"
      ]
     },
     "execution_count": 1343,
     "metadata": {},
     "output_type": "execute_result"
    }
   ],
   "source": [
    "dash.head(10)"
   ]
  },
  {
   "cell_type": "code",
   "execution_count": 1344,
   "metadata": {},
   "outputs": [
    {
     "data": {
      "text/html": [
       "<div>\n",
       "<style>\n",
       "    .dataframe thead tr:only-child th {\n",
       "        text-align: right;\n",
       "    }\n",
       "\n",
       "    .dataframe thead th {\n",
       "        text-align: left;\n",
       "    }\n",
       "\n",
       "    .dataframe tbody tr th {\n",
       "        vertical-align: top;\n",
       "    }\n",
       "</style>\n",
       "<table border=\"1\" class=\"dataframe\">\n",
       "  <thead>\n",
       "    <tr style=\"text-align: right;\">\n",
       "      <th></th>\n",
       "      <th>Pred No</th>\n",
       "      <th>Pred Yes</th>\n",
       "    </tr>\n",
       "  </thead>\n",
       "  <tbody>\n",
       "    <tr>\n",
       "      <th>Act No</th>\n",
       "      <td>12213</td>\n",
       "      <td>5527</td>\n",
       "    </tr>\n",
       "    <tr>\n",
       "      <th>Act Yes</th>\n",
       "      <td>1147</td>\n",
       "      <td>1656</td>\n",
       "    </tr>\n",
       "  </tbody>\n",
       "</table>\n",
       "</div>"
      ],
      "text/plain": [
       "         Pred No  Pred Yes\n",
       "Act No     12213      5527\n",
       "Act Yes     1147      1656"
      ]
     },
     "execution_count": 1344,
     "metadata": {},
     "output_type": "execute_result"
    }
   ],
   "source": [
    "matrix = pd.DataFrame(data=confusion_matrix(y_test, predictions))\n",
    "matrix.columns = ['Pred No', 'Pred Yes']\n",
    "matrix.index = ['Act No', 'Act Yes']\n",
    "matrix"
   ]
  },
  {
   "cell_type": "markdown",
   "metadata": {},
   "source": [
    "<h4> % of Total Readmission Caught</h4>"
   ]
  },
  {
   "cell_type": "code",
   "execution_count": 1345,
   "metadata": {},
   "outputs": [
    {
     "data": {
      "text/plain": [
       "0.59079557616839096"
      ]
     },
     "execution_count": 1345,
     "metadata": {},
     "output_type": "execute_result"
    }
   ],
   "source": [
    "matrix.iloc[1,1]/matrix.iloc[1,:].sum()"
   ]
  },
  {
   "cell_type": "markdown",
   "metadata": {},
   "source": [
    "<h4> False Positive Rate</h4>"
   ]
  },
  {
   "cell_type": "code",
   "execution_count": 1346,
   "metadata": {},
   "outputs": [
    {
     "data": {
      "text/plain": [
       "0.31155580608793687"
      ]
     },
     "execution_count": 1346,
     "metadata": {},
     "output_type": "execute_result"
    }
   ],
   "source": [
    "matrix.iloc[0,1]/matrix.iloc[0,:].sum()"
   ]
  },
  {
   "cell_type": "code",
   "execution_count": 1347,
   "metadata": {
    "scrolled": true
   },
   "outputs": [
    {
     "name": "stdout",
     "output_type": "stream",
     "text": [
      "             precision    recall  f1-score   support\n",
      "\n",
      "          0       0.91      0.69      0.79     17740\n",
      "          1       0.23      0.59      0.33      2803\n",
      "\n",
      "avg / total       0.82      0.68      0.72     20543\n",
      "\n"
     ]
    }
   ],
   "source": [
    "print(classification_report(y_test,predictions))"
   ]
  },
  {
   "cell_type": "markdown",
   "metadata": {},
   "source": [
    "<h4> Brier Score - Peds </h4>"
   ]
  },
  {
   "cell_type": "code",
   "execution_count": 1348,
   "metadata": {},
   "outputs": [
    {
     "name": "stdout",
     "output_type": "stream",
     "text": [
      "0.215899912528\n"
     ]
    }
   ],
   "source": [
    "print(brier_score_loss(y_test,probs))"
   ]
  },
  {
   "cell_type": "code",
   "execution_count": 1349,
   "metadata": {
    "collapsed": true
   },
   "outputs": [],
   "source": [
    "peds = pd.DataFrame({'labels' : y_test, 'predictions' : probs})\n",
    "peds = pd.concat([peds, X_test], axis=1)"
   ]
  },
  {
   "cell_type": "code",
   "execution_count": 1350,
   "metadata": {},
   "outputs": [
    {
     "data": {
      "text/plain": [
       "RandomForestClassifier(bootstrap=True, class_weight='balanced',\n",
       "            criterion='gini', max_depth=3, max_features='auto',\n",
       "            max_leaf_nodes=None, min_impurity_split=1e-07,\n",
       "            min_samples_leaf=1, min_samples_split=2,\n",
       "            min_weight_fraction_leaf=0.0, n_estimators=10, n_jobs=1,\n",
       "            oob_score=False, random_state=None, verbose=0,\n",
       "            warm_start=False)"
      ]
     },
     "execution_count": 1350,
     "metadata": {},
     "output_type": "execute_result"
    }
   ],
   "source": [
    "cls = RandomForestClassifier(class_weight='balanced', max_depth=3)\n",
    "cls"
   ]
  },
  {
   "cell_type": "code",
   "execution_count": 1351,
   "metadata": {
    "collapsed": true
   },
   "outputs": [],
   "source": [
    "cls.fit(X_train, y_train)\n",
    "\n",
    "cls_predictions = cls.predict(X_test)\n",
    "cls_probs = cls.predict_proba(X_test)[:,1]"
   ]
  },
  {
   "cell_type": "code",
   "execution_count": 1352,
   "metadata": {
    "scrolled": false
   },
   "outputs": [
    {
     "data": {
      "text/html": [
       "<div>\n",
       "<style>\n",
       "    .dataframe thead tr:only-child th {\n",
       "        text-align: right;\n",
       "    }\n",
       "\n",
       "    .dataframe thead th {\n",
       "        text-align: left;\n",
       "    }\n",
       "\n",
       "    .dataframe tbody tr th {\n",
       "        vertical-align: top;\n",
       "    }\n",
       "</style>\n",
       "<table border=\"1\" class=\"dataframe\">\n",
       "  <thead>\n",
       "    <tr style=\"text-align: right;\">\n",
       "      <th></th>\n",
       "      <th>Pred No</th>\n",
       "      <th>Pred Yes</th>\n",
       "    </tr>\n",
       "  </thead>\n",
       "  <tbody>\n",
       "    <tr>\n",
       "      <th>Act No</th>\n",
       "      <td>9916</td>\n",
       "      <td>7824</td>\n",
       "    </tr>\n",
       "    <tr>\n",
       "      <th>Act Yes</th>\n",
       "      <td>943</td>\n",
       "      <td>1860</td>\n",
       "    </tr>\n",
       "  </tbody>\n",
       "</table>\n",
       "</div>"
      ],
      "text/plain": [
       "         Pred No  Pred Yes\n",
       "Act No      9916      7824\n",
       "Act Yes      943      1860"
      ]
     },
     "execution_count": 1352,
     "metadata": {},
     "output_type": "execute_result"
    }
   ],
   "source": [
    "matrix = pd.DataFrame(data=confusion_matrix(y_test, cls_predictions))\n",
    "matrix.columns = ['Pred No', 'Pred Yes']\n",
    "matrix.index = ['Act No', 'Act Yes']\n",
    "matrix"
   ]
  },
  {
   "cell_type": "code",
   "execution_count": 1353,
   "metadata": {
    "scrolled": true
   },
   "outputs": [
    {
     "data": {
      "text/plain": [
       "0.6635747413485551"
      ]
     },
     "execution_count": 1353,
     "metadata": {},
     "output_type": "execute_result"
    }
   ],
   "source": [
    "matrix.iloc[1,1]/matrix.iloc[1,:].sum()"
   ]
  },
  {
   "cell_type": "code",
   "execution_count": 1354,
   "metadata": {},
   "outputs": [
    {
     "data": {
      "text/plain": [
       "0.44103720405862457"
      ]
     },
     "execution_count": 1354,
     "metadata": {},
     "output_type": "execute_result"
    }
   ],
   "source": [
    "matrix.iloc[0,1]/matrix.iloc[0,:].sum()"
   ]
  },
  {
   "cell_type": "code",
   "execution_count": 1355,
   "metadata": {
    "scrolled": true
   },
   "outputs": [
    {
     "name": "stdout",
     "output_type": "stream",
     "text": [
      "             precision    recall  f1-score   support\n",
      "\n",
      "          0       0.91      0.56      0.69     17740\n",
      "          1       0.19      0.66      0.30      2803\n",
      "\n",
      "avg / total       0.81      0.57      0.64     20543\n",
      "\n"
     ]
    }
   ],
   "source": [
    "print(classification_report(y_test,cls_predictions))"
   ]
  },
  {
   "cell_type": "code",
   "execution_count": 1356,
   "metadata": {},
   "outputs": [
    {
     "data": {
      "text/plain": [
       "<function matplotlib.pyplot.show>"
      ]
     },
     "execution_count": 1356,
     "metadata": {},
     "output_type": "execute_result"
    },
    {
     "data": {
      "image/png": "[encoded data removed]",
      "text/plain": [
       "<matplotlib.figure.Figure at 0x29f82d456a0>"
      ]
     },
     "metadata": {},
     "output_type": "display_data"
    }
   ],
   "source": [
    "fpr, tpr, thresholds_auc = roc_curve(y_test, cls_probs)\n",
    "roc_auc = auc(fpr, tpr)\n",
    "\n",
    "plt.figure(figsize=(10,10))\n",
    "plt.title('Receiver Operating Characteristic')\n",
    "plt.plot(fpr, tpr, 'b', label='AUC = %0.2f'% roc_auc)\n",
    "plt.legend(loc='lower right')\n",
    "plt.plot([0,1],[0,1], 'r--')\n",
    "plt.xlim([-0.1,1.1])\n",
    "plt.ylim([-0.1,1.1])\n",
    "plt.ylabel('True Positive Rate')\n",
    "plt.xlabel('False Positive Rate')\n",
    "plt.locator_params(nbins=6)\n",
    "plt.show"
   ]
  },
  {
   "cell_type": "code",
   "execution_count": 1357,
   "metadata": {
    "scrolled": true
   },
   "outputs": [],
   "source": [
    "import xgboost as xgb\n",
    "from sklearn.datasets import dump_svmlight_file\n",
    "\n",
    "dump_svmlight_file(X_train, y_train, 'dtrain.svm', zero_based=True)\n",
    "dump_svmlight_file(X_test, y_test, 'dtest.svm', zero_based=True)\n",
    "dtrain_svm = xgb.DMatrix('dtrain.svm')\n",
    "dtest_svm = xgb.DMatrix('dtest.svm')\n",
    "\n",
    "param = {\n",
    "    'max_depth': 5, # the maximum depth of each tree\n",
    "    'eta': 0.3, # the training step for each iteration\n",
    "    'silent': 1, # Logging mode - quiet\n",
    "    'objective': 'multi:softprob', # error evaluation for multiclass training\n",
    "    'num_class': 2 # the number of classes that exist in this dataset\n",
    "}\n",
    "num_round = 20 # the number of training iterations\n",
    "\n",
    "bst = xgb.train(param, dtrain_svm, num_round)\n"
   ]
  },
  {
   "cell_type": "code",
   "execution_count": 1358,
   "metadata": {},
   "outputs": [],
   "source": [
    "xgb_preds = bst.predict(dtest_svm)"
   ]
  },
  {
   "cell_type": "code",
   "execution_count": 1359,
   "metadata": {},
   "outputs": [],
   "source": [
    "xgb_preds = np.asarray([np.argmax(line) for line in xgb_preds])"
   ]
  },
  {
   "cell_type": "code",
   "execution_count": 1360,
   "metadata": {},
   "outputs": [
    {
     "name": "stdout",
     "output_type": "stream",
     "text": [
      "0.755117251078\n"
     ]
    }
   ],
   "source": [
    "from sklearn.metrics import precision_score\n",
    "\n",
    "print(precision_score(y_test, xgb_preds, average='macro'))"
   ]
  },
  {
   "cell_type": "code",
   "execution_count": 1361,
   "metadata": {},
   "outputs": [
    {
     "data": {
      "text/html": [
       "<div>\n",
       "<style>\n",
       "    .dataframe thead tr:only-child th {\n",
       "        text-align: right;\n",
       "    }\n",
       "\n",
       "    .dataframe thead th {\n",
       "        text-align: left;\n",
       "    }\n",
       "\n",
       "    .dataframe tbody tr th {\n",
       "        vertical-align: top;\n",
       "    }\n",
       "</style>\n",
       "<table border=\"1\" class=\"dataframe\">\n",
       "  <thead>\n",
       "    <tr style=\"text-align: right;\">\n",
       "      <th></th>\n",
       "      <th>Pred No</th>\n",
       "      <th>Pred Yes</th>\n",
       "    </tr>\n",
       "  </thead>\n",
       "  <tbody>\n",
       "    <tr>\n",
       "      <th>Act No</th>\n",
       "      <td>17617</td>\n",
       "      <td>123</td>\n",
       "    </tr>\n",
       "    <tr>\n",
       "      <th>Act Yes</th>\n",
       "      <td>2586</td>\n",
       "      <td>217</td>\n",
       "    </tr>\n",
       "  </tbody>\n",
       "</table>\n",
       "</div>"
      ],
      "text/plain": [
       "         Pred No  Pred Yes\n",
       "Act No     17617       123\n",
       "Act Yes     2586       217"
      ]
     },
     "execution_count": 1361,
     "metadata": {},
     "output_type": "execute_result"
    }
   ],
   "source": [
    "matrix = pd.DataFrame(data=confusion_matrix(y_test, xgb_preds))\n",
    "matrix.columns = ['Pred No', 'Pred Yes']\n",
    "matrix.index = ['Act No', 'Act Yes']\n",
    "matrix"
   ]
  }
 ],
 "metadata": {
  "kernelspec": {
   "display_name": "Python 3",
   "language": "python",
   "name": "python3"
  },
  "language_info": {
   "codemirror_mode": {
    "name": "ipython",
    "version": 3
   },
   "file_extension": ".py",
   "mimetype": "text/x-python",
   "name": "python",
   "nbconvert_exporter": "python",
   "pygments_lexer": "ipython3",
   "version": "3.6.1"
  }
 },
 "nbformat": 4,
 "nbformat_minor": 1
}
