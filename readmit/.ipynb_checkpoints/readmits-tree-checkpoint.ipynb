{
 "cells": [
  {
   "cell_type": "code",
   "execution_count": 29,
   "metadata": {
    "collapsed": true
   },
   "outputs": [],
   "source": [
    "import pandas as pd\n",
    "import numpy as np\n",
    "import matplotlib.pyplot as plt\n",
    "import seaborn as sns\n",
    "%matplotlib inline"
   ]
  },
  {
   "cell_type": "code",
   "execution_count": 30,
   "metadata": {
    "collapsed": true
   },
   "outputs": [],
   "source": [
    "data = pd.read_csv('readmit_w_counts.csv')\n",
    "#data.drop('HSP_ACCOUNT_ID',axis=1,inplace=True)"
   ]
  },
  {
   "cell_type": "code",
   "execution_count": 31,
   "metadata": {
    "collapsed": true
   },
   "outputs": [],
   "source": [
    "data = data[data['Days_Stay_Current'] >= 0]\n",
    "data = data.dropna(axis=0,how='any')\n",
    "\n",
    "def squish(val):\n",
    "    if val > 0:\n",
    "        return 1\n",
    "    else:\n",
    "        return 0\n",
    "    \n",
    "data['CntAdmitsSubsequent'] = data['CntAdmitsSubsequent'].apply(lambda x: squish(x))\n",
    "data.drop(['Corticosteroids.1'], axis=1, inplace=True)\n"
   ]
  },
  {
   "cell_type": "code",
   "execution_count": 32,
   "metadata": {
    "collapsed": true
   },
   "outputs": [],
   "source": [
    "isPeds = False\n",
    "\n",
    "if isPeds:\n",
    "    data = data[data['Age'] <= 18]\n",
    "    #data.drop(['BUNVal','CreatinineVal','PO4Val'], axis=1)\n",
    "else:\n",
    "    data = data[data['Age'] >= 18]\n",
    "    data.drop(['BUNVal'], axis=1)\n",
    "\n",
    "\n",
    "#data = data[data['HSP_ACCOUNT_ID'] >= 40000000]\n"
   ]
  },
  {
   "cell_type": "code",
   "execution_count": 33,
   "metadata": {
    "scrolled": false
   },
   "outputs": [
    {
     "data": {
      "text/html": [
       "<div>\n",
       "<style>\n",
       "    .dataframe thead tr:only-child th {\n",
       "        text-align: right;\n",
       "    }\n",
       "\n",
       "    .dataframe thead th {\n",
       "        text-align: left;\n",
       "    }\n",
       "\n",
       "    .dataframe tbody tr th {\n",
       "        vertical-align: top;\n",
       "    }\n",
       "</style>\n",
       "<table border=\"1\" class=\"dataframe\">\n",
       "  <thead>\n",
       "    <tr style=\"text-align: right;\">\n",
       "      <th></th>\n",
       "      <th>HSP_ACCOUNT_ID</th>\n",
       "      <th>Age</th>\n",
       "      <th>CntAdmitsSubsequent</th>\n",
       "      <th>NumberActiveMedOrders</th>\n",
       "      <th>Days_Stay_Current</th>\n",
       "      <th>CntComorbidityDXLast12Months</th>\n",
       "      <th>CntNumPastEDVisits</th>\n",
       "      <th>FutureAppts</th>\n",
       "      <th>HemoglobinVal</th>\n",
       "      <th>CalciumVal</th>\n",
       "      <th>...</th>\n",
       "      <th>UlcerMeds</th>\n",
       "      <th>ImagingCount</th>\n",
       "      <th>EKGCount</th>\n",
       "      <th>RestraintCount</th>\n",
       "      <th>CancerDX</th>\n",
       "      <th>ElectroylyteDisorderDX</th>\n",
       "      <th>DeficiencyAnemiaDX</th>\n",
       "      <th>RenalFailureDX</th>\n",
       "      <th>LOSge10Last12Month</th>\n",
       "      <th>DrugAbuseDX</th>\n",
       "    </tr>\n",
       "  </thead>\n",
       "  <tbody>\n",
       "    <tr>\n",
       "      <th>count</th>\n",
       "      <td>6.847400e+04</td>\n",
       "      <td>68474.000000</td>\n",
       "      <td>68474.000000</td>\n",
       "      <td>68474.000000</td>\n",
       "      <td>68474.000000</td>\n",
       "      <td>68474.000000</td>\n",
       "      <td>68474.000000</td>\n",
       "      <td>68474.000000</td>\n",
       "      <td>68474.000000</td>\n",
       "      <td>68474.000000</td>\n",
       "      <td>...</td>\n",
       "      <td>68474.000000</td>\n",
       "      <td>68474.000000</td>\n",
       "      <td>68474.000000</td>\n",
       "      <td>68474.000000</td>\n",
       "      <td>68474.000000</td>\n",
       "      <td>68474.000000</td>\n",
       "      <td>68474.000000</td>\n",
       "      <td>68474.000000</td>\n",
       "      <td>68474.000000</td>\n",
       "      <td>68474.000000</td>\n",
       "    </tr>\n",
       "    <tr>\n",
       "      <th>mean</th>\n",
       "      <td>3.891434e+07</td>\n",
       "      <td>47.140185</td>\n",
       "      <td>0.136081</td>\n",
       "      <td>46.238207</td>\n",
       "      <td>5.658717</td>\n",
       "      <td>0.164077</td>\n",
       "      <td>1.740047</td>\n",
       "      <td>0.319698</td>\n",
       "      <td>0.156614</td>\n",
       "      <td>0.004805</td>\n",
       "      <td>...</td>\n",
       "      <td>0.626866</td>\n",
       "      <td>3.368665</td>\n",
       "      <td>0.573751</td>\n",
       "      <td>0.115752</td>\n",
       "      <td>0.100272</td>\n",
       "      <td>0.085346</td>\n",
       "      <td>0.000277</td>\n",
       "      <td>0.031355</td>\n",
       "      <td>0.089348</td>\n",
       "      <td>0.038847</td>\n",
       "    </tr>\n",
       "    <tr>\n",
       "      <th>std</th>\n",
       "      <td>9.819542e+06</td>\n",
       "      <td>17.098512</td>\n",
       "      <td>0.342877</td>\n",
       "      <td>41.897062</td>\n",
       "      <td>9.029290</td>\n",
       "      <td>0.992234</td>\n",
       "      <td>6.152169</td>\n",
       "      <td>0.466363</td>\n",
       "      <td>0.363439</td>\n",
       "      <td>0.069150</td>\n",
       "      <td>...</td>\n",
       "      <td>0.483641</td>\n",
       "      <td>6.050507</td>\n",
       "      <td>0.557188</td>\n",
       "      <td>0.352921</td>\n",
       "      <td>0.300364</td>\n",
       "      <td>0.279398</td>\n",
       "      <td>0.016655</td>\n",
       "      <td>0.174276</td>\n",
       "      <td>0.285247</td>\n",
       "      <td>0.193231</td>\n",
       "    </tr>\n",
       "    <tr>\n",
       "      <th>min</th>\n",
       "      <td>2.026316e+07</td>\n",
       "      <td>18.000000</td>\n",
       "      <td>0.000000</td>\n",
       "      <td>0.000000</td>\n",
       "      <td>0.000000</td>\n",
       "      <td>0.000000</td>\n",
       "      <td>0.000000</td>\n",
       "      <td>0.000000</td>\n",
       "      <td>0.000000</td>\n",
       "      <td>0.000000</td>\n",
       "      <td>...</td>\n",
       "      <td>0.000000</td>\n",
       "      <td>0.000000</td>\n",
       "      <td>0.000000</td>\n",
       "      <td>0.000000</td>\n",
       "      <td>0.000000</td>\n",
       "      <td>0.000000</td>\n",
       "      <td>0.000000</td>\n",
       "      <td>0.000000</td>\n",
       "      <td>0.000000</td>\n",
       "      <td>0.000000</td>\n",
       "    </tr>\n",
       "    <tr>\n",
       "      <th>25%</th>\n",
       "      <td>4.147634e+07</td>\n",
       "      <td>32.000000</td>\n",
       "      <td>0.000000</td>\n",
       "      <td>23.000000</td>\n",
       "      <td>2.000000</td>\n",
       "      <td>0.000000</td>\n",
       "      <td>0.000000</td>\n",
       "      <td>0.000000</td>\n",
       "      <td>0.000000</td>\n",
       "      <td>0.000000</td>\n",
       "      <td>...</td>\n",
       "      <td>0.000000</td>\n",
       "      <td>0.000000</td>\n",
       "      <td>0.000000</td>\n",
       "      <td>0.000000</td>\n",
       "      <td>0.000000</td>\n",
       "      <td>0.000000</td>\n",
       "      <td>0.000000</td>\n",
       "      <td>0.000000</td>\n",
       "      <td>0.000000</td>\n",
       "      <td>0.000000</td>\n",
       "    </tr>\n",
       "    <tr>\n",
       "      <th>50%</th>\n",
       "      <td>4.204043e+07</td>\n",
       "      <td>48.000000</td>\n",
       "      <td>0.000000</td>\n",
       "      <td>35.000000</td>\n",
       "      <td>3.000000</td>\n",
       "      <td>0.000000</td>\n",
       "      <td>0.000000</td>\n",
       "      <td>0.000000</td>\n",
       "      <td>0.000000</td>\n",
       "      <td>0.000000</td>\n",
       "      <td>...</td>\n",
       "      <td>1.000000</td>\n",
       "      <td>2.000000</td>\n",
       "      <td>1.000000</td>\n",
       "      <td>0.000000</td>\n",
       "      <td>0.000000</td>\n",
       "      <td>0.000000</td>\n",
       "      <td>0.000000</td>\n",
       "      <td>0.000000</td>\n",
       "      <td>0.000000</td>\n",
       "      <td>0.000000</td>\n",
       "    </tr>\n",
       "    <tr>\n",
       "      <th>75%</th>\n",
       "      <td>4.267214e+07</td>\n",
       "      <td>60.000000</td>\n",
       "      <td>0.000000</td>\n",
       "      <td>56.000000</td>\n",
       "      <td>6.000000</td>\n",
       "      <td>0.000000</td>\n",
       "      <td>1.000000</td>\n",
       "      <td>1.000000</td>\n",
       "      <td>0.000000</td>\n",
       "      <td>0.000000</td>\n",
       "      <td>...</td>\n",
       "      <td>1.000000</td>\n",
       "      <td>4.000000</td>\n",
       "      <td>1.000000</td>\n",
       "      <td>0.000000</td>\n",
       "      <td>0.000000</td>\n",
       "      <td>0.000000</td>\n",
       "      <td>0.000000</td>\n",
       "      <td>0.000000</td>\n",
       "      <td>0.000000</td>\n",
       "      <td>0.000000</td>\n",
       "    </tr>\n",
       "    <tr>\n",
       "      <th>max</th>\n",
       "      <td>7.021894e+07</td>\n",
       "      <td>117.000000</td>\n",
       "      <td>1.000000</td>\n",
       "      <td>1242.000000</td>\n",
       "      <td>876.000000</td>\n",
       "      <td>24.000000</td>\n",
       "      <td>159.000000</td>\n",
       "      <td>1.000000</td>\n",
       "      <td>1.000000</td>\n",
       "      <td>1.000000</td>\n",
       "      <td>...</td>\n",
       "      <td>1.000000</td>\n",
       "      <td>149.000000</td>\n",
       "      <td>4.000000</td>\n",
       "      <td>3.000000</td>\n",
       "      <td>1.000000</td>\n",
       "      <td>1.000000</td>\n",
       "      <td>1.000000</td>\n",
       "      <td>1.000000</td>\n",
       "      <td>1.000000</td>\n",
       "      <td>1.000000</td>\n",
       "    </tr>\n",
       "  </tbody>\n",
       "</table>\n",
       "<p>8 rows × 28 columns</p>\n",
       "</div>"
      ],
      "text/plain": [
       "       HSP_ACCOUNT_ID           Age  CntAdmitsSubsequent  \\\n",
       "count    6.847400e+04  68474.000000         68474.000000   \n",
       "mean     3.891434e+07     47.140185             0.136081   \n",
       "std      9.819542e+06     17.098512             0.342877   \n",
       "min      2.026316e+07     18.000000             0.000000   \n",
       "25%      4.147634e+07     32.000000             0.000000   \n",
       "50%      4.204043e+07     48.000000             0.000000   \n",
       "75%      4.267214e+07     60.000000             0.000000   \n",
       "max      7.021894e+07    117.000000             1.000000   \n",
       "\n",
       "       NumberActiveMedOrders  Days_Stay_Current  CntComorbidityDXLast12Months  \\\n",
       "count           68474.000000       68474.000000                  68474.000000   \n",
       "mean               46.238207           5.658717                      0.164077   \n",
       "std                41.897062           9.029290                      0.992234   \n",
       "min                 0.000000           0.000000                      0.000000   \n",
       "25%                23.000000           2.000000                      0.000000   \n",
       "50%                35.000000           3.000000                      0.000000   \n",
       "75%                56.000000           6.000000                      0.000000   \n",
       "max              1242.000000         876.000000                     24.000000   \n",
       "\n",
       "       CntNumPastEDVisits   FutureAppts  HemoglobinVal    CalciumVal  \\\n",
       "count        68474.000000  68474.000000   68474.000000  68474.000000   \n",
       "mean             1.740047      0.319698       0.156614      0.004805   \n",
       "std              6.152169      0.466363       0.363439      0.069150   \n",
       "min              0.000000      0.000000       0.000000      0.000000   \n",
       "25%              0.000000      0.000000       0.000000      0.000000   \n",
       "50%              0.000000      0.000000       0.000000      0.000000   \n",
       "75%              1.000000      1.000000       0.000000      0.000000   \n",
       "max            159.000000      1.000000       1.000000      1.000000   \n",
       "\n",
       "           ...          UlcerMeds  ImagingCount      EKGCount  RestraintCount  \\\n",
       "count      ...       68474.000000  68474.000000  68474.000000    68474.000000   \n",
       "mean       ...           0.626866      3.368665      0.573751        0.115752   \n",
       "std        ...           0.483641      6.050507      0.557188        0.352921   \n",
       "min        ...           0.000000      0.000000      0.000000        0.000000   \n",
       "25%        ...           0.000000      0.000000      0.000000        0.000000   \n",
       "50%        ...           1.000000      2.000000      1.000000        0.000000   \n",
       "75%        ...           1.000000      4.000000      1.000000        0.000000   \n",
       "max        ...           1.000000    149.000000      4.000000        3.000000   \n",
       "\n",
       "           CancerDX  ElectroylyteDisorderDX  DeficiencyAnemiaDX  \\\n",
       "count  68474.000000            68474.000000        68474.000000   \n",
       "mean       0.100272                0.085346            0.000277   \n",
       "std        0.300364                0.279398            0.016655   \n",
       "min        0.000000                0.000000            0.000000   \n",
       "25%        0.000000                0.000000            0.000000   \n",
       "50%        0.000000                0.000000            0.000000   \n",
       "75%        0.000000                0.000000            0.000000   \n",
       "max        1.000000                1.000000            1.000000   \n",
       "\n",
       "       RenalFailureDX  LOSge10Last12Month   DrugAbuseDX  \n",
       "count    68474.000000        68474.000000  68474.000000  \n",
       "mean         0.031355            0.089348      0.038847  \n",
       "std          0.174276            0.285247      0.193231  \n",
       "min          0.000000            0.000000      0.000000  \n",
       "25%          0.000000            0.000000      0.000000  \n",
       "50%          0.000000            0.000000      0.000000  \n",
       "75%          0.000000            0.000000      0.000000  \n",
       "max          1.000000            1.000000      1.000000  \n",
       "\n",
       "[8 rows x 28 columns]"
      ]
     },
     "execution_count": 33,
     "metadata": {},
     "output_type": "execute_result"
    }
   ],
   "source": [
    "data.describe()"
   ]
  },
  {
   "cell_type": "code",
   "execution_count": 34,
   "metadata": {},
   "outputs": [],
   "source": [
    "#data.info()"
   ]
  },
  {
   "cell_type": "code",
   "execution_count": 35,
   "metadata": {
    "collapsed": true
   },
   "outputs": [],
   "source": [
    "#cystic fibrosis, cerebral palsy, central line, sickle cell, social work involvement, G tube, \n",
    "#failure to thrive, gestational age, albumin is low\n",
    "\n",
    "#drop createnine, PO4 for peds"
   ]
  },
  {
   "cell_type": "code",
   "execution_count": 36,
   "metadata": {
    "collapsed": true
   },
   "outputs": [],
   "source": [
    "#dummify count vars\n",
    "\n",
    "#def dummy(val):\n",
    "#    if val == 0:\n",
    "#        return 0\n",
    "#    else:\n",
    "#        return 1\n",
    "\n",
    "#def dummy_col(col):\n",
    "#    return col.apply(lambda x: dummy(x))\n",
    "\n",
    "#dummycols = ['Anticoagulants', 'Corticosteroids', 'NSAIDs', 'UlcerMeds',\n",
    "#             'ImagingCount', 'EKGCount', 'RestraintCount', 'ElectroylyteDisorderDX', 'DrugAbuseDX' ]\n",
    "\n",
    "#for i in range(0,len(dummycols)):\n",
    "#    data[dummycols[i]] = dummy_col(data[dummycols[i]])"
   ]
  },
  {
   "cell_type": "code",
   "execution_count": 37,
   "metadata": {
    "collapsed": true
   },
   "outputs": [],
   "source": [
    "from sklearn.model_selection import train_test_split"
   ]
  },
  {
   "cell_type": "code",
   "execution_count": 38,
   "metadata": {},
   "outputs": [],
   "source": [
    "har = data['HSP_ACCOUNT_ID']\n",
    "data.drop(['HSP_ACCOUNT_ID', 'AdmDate', 'DischDate'], axis=1, inplace=True)\n",
    "y = data['CntAdmitsSubsequent']\n",
    "data.drop(['CntAdmitsSubsequent'], axis=1, inplace=True)\n",
    "X = data"
   ]
  },
  {
   "cell_type": "code",
   "execution_count": 39,
   "metadata": {
    "collapsed": true
   },
   "outputs": [],
   "source": [
    "X_train, X_test, y_train, y_test = train_test_split(X, y, test_size=0.2, random_state=42)"
   ]
  },
  {
   "cell_type": "code",
   "execution_count": 40,
   "metadata": {
    "collapsed": true
   },
   "outputs": [],
   "source": [
    "from sklearn.linear_model import LogisticRegression\n",
    "from sklearn.ensemble import RandomForestClassifier"
   ]
  },
  {
   "cell_type": "code",
   "execution_count": 41,
   "metadata": {},
   "outputs": [
    {
     "data": {
      "text/plain": [
       "RandomForestClassifier(bootstrap=True, class_weight=None, criterion='gini',\n",
       "            max_depth=None, max_features='auto', max_leaf_nodes=None,\n",
       "            min_impurity_split=1e-07, min_samples_leaf=1,\n",
       "            min_samples_split=2, min_weight_fraction_leaf=0.0,\n",
       "            n_estimators=10, n_jobs=1, oob_score=False, random_state=None,\n",
       "            verbose=0, warm_start=False)"
      ]
     },
     "execution_count": 41,
     "metadata": {},
     "output_type": "execute_result"
    }
   ],
   "source": [
    "logmodel = LogisticRegression(class_weight='balanced')\n",
    "logmodel.fit(X_train,y_train)\n",
    "\n",
    "cls = clf = RandomForestClassifier()\n",
    "clf.fit(X_train, y_train)"
   ]
  },
  {
   "cell_type": "code",
   "execution_count": 42,
   "metadata": {
    "collapsed": true
   },
   "outputs": [],
   "source": [
    "coef = pd.DataFrame({'coef' : pd.Series(logmodel.coef_[0]), 'features' : pd.Series(X_train.columns)})"
   ]
  },
  {
   "cell_type": "code",
   "execution_count": 43,
   "metadata": {
    "collapsed": true
   },
   "outputs": [],
   "source": [
    "coef = coef[['features', 'coef']]"
   ]
  },
  {
   "cell_type": "code",
   "execution_count": 44,
   "metadata": {},
   "outputs": [
    {
     "data": {
      "text/html": [
       "<div>\n",
       "<style>\n",
       "    .dataframe thead tr:only-child th {\n",
       "        text-align: right;\n",
       "    }\n",
       "\n",
       "    .dataframe thead th {\n",
       "        text-align: left;\n",
       "    }\n",
       "\n",
       "    .dataframe tbody tr th {\n",
       "        vertical-align: top;\n",
       "    }\n",
       "</style>\n",
       "<table border=\"1\" class=\"dataframe\">\n",
       "  <thead>\n",
       "    <tr style=\"text-align: right;\">\n",
       "      <th></th>\n",
       "      <th>features</th>\n",
       "      <th>coef</th>\n",
       "    </tr>\n",
       "  </thead>\n",
       "  <tbody>\n",
       "    <tr>\n",
       "      <th>0</th>\n",
       "      <td>Age</td>\n",
       "      <td>-0.004447</td>\n",
       "    </tr>\n",
       "    <tr>\n",
       "      <th>1</th>\n",
       "      <td>NumberActiveMedOrders</td>\n",
       "      <td>-0.000301</td>\n",
       "    </tr>\n",
       "    <tr>\n",
       "      <th>2</th>\n",
       "      <td>Days_Stay_Current</td>\n",
       "      <td>0.002262</td>\n",
       "    </tr>\n",
       "    <tr>\n",
       "      <th>3</th>\n",
       "      <td>CntComorbidityDXLast12Months</td>\n",
       "      <td>0.018370</td>\n",
       "    </tr>\n",
       "    <tr>\n",
       "      <th>4</th>\n",
       "      <td>CntNumPastEDVisits</td>\n",
       "      <td>0.073520</td>\n",
       "    </tr>\n",
       "    <tr>\n",
       "      <th>5</th>\n",
       "      <td>FutureAppts</td>\n",
       "      <td>-0.156674</td>\n",
       "    </tr>\n",
       "    <tr>\n",
       "      <th>6</th>\n",
       "      <td>HemoglobinVal</td>\n",
       "      <td>-0.192358</td>\n",
       "    </tr>\n",
       "    <tr>\n",
       "      <th>7</th>\n",
       "      <td>CalciumVal</td>\n",
       "      <td>0.049869</td>\n",
       "    </tr>\n",
       "    <tr>\n",
       "      <th>8</th>\n",
       "      <td>BUNVal</td>\n",
       "      <td>-0.765321</td>\n",
       "    </tr>\n",
       "    <tr>\n",
       "      <th>9</th>\n",
       "      <td>CreatinineVal</td>\n",
       "      <td>0.128874</td>\n",
       "    </tr>\n",
       "    <tr>\n",
       "      <th>10</th>\n",
       "      <td>PO4Val</td>\n",
       "      <td>0.295018</td>\n",
       "    </tr>\n",
       "    <tr>\n",
       "      <th>11</th>\n",
       "      <td>INRVal</td>\n",
       "      <td>0.341683</td>\n",
       "    </tr>\n",
       "    <tr>\n",
       "      <th>12</th>\n",
       "      <td>Anticoagulants</td>\n",
       "      <td>0.381498</td>\n",
       "    </tr>\n",
       "    <tr>\n",
       "      <th>13</th>\n",
       "      <td>Corticosteroids</td>\n",
       "      <td>0.306529</td>\n",
       "    </tr>\n",
       "    <tr>\n",
       "      <th>14</th>\n",
       "      <td>NSAIDs</td>\n",
       "      <td>-0.452913</td>\n",
       "    </tr>\n",
       "    <tr>\n",
       "      <th>15</th>\n",
       "      <td>AntiPsych</td>\n",
       "      <td>0.159738</td>\n",
       "    </tr>\n",
       "    <tr>\n",
       "      <th>16</th>\n",
       "      <td>UlcerMeds</td>\n",
       "      <td>-0.099951</td>\n",
       "    </tr>\n",
       "    <tr>\n",
       "      <th>17</th>\n",
       "      <td>ImagingCount</td>\n",
       "      <td>-0.011623</td>\n",
       "    </tr>\n",
       "    <tr>\n",
       "      <th>18</th>\n",
       "      <td>EKGCount</td>\n",
       "      <td>0.179888</td>\n",
       "    </tr>\n",
       "    <tr>\n",
       "      <th>19</th>\n",
       "      <td>RestraintCount</td>\n",
       "      <td>-0.035260</td>\n",
       "    </tr>\n",
       "    <tr>\n",
       "      <th>20</th>\n",
       "      <td>CancerDX</td>\n",
       "      <td>0.657242</td>\n",
       "    </tr>\n",
       "    <tr>\n",
       "      <th>21</th>\n",
       "      <td>ElectroylyteDisorderDX</td>\n",
       "      <td>0.133690</td>\n",
       "    </tr>\n",
       "    <tr>\n",
       "      <th>22</th>\n",
       "      <td>DeficiencyAnemiaDX</td>\n",
       "      <td>0.790936</td>\n",
       "    </tr>\n",
       "    <tr>\n",
       "      <th>23</th>\n",
       "      <td>RenalFailureDX</td>\n",
       "      <td>0.394950</td>\n",
       "    </tr>\n",
       "    <tr>\n",
       "      <th>24</th>\n",
       "      <td>LOSge10Last12Month</td>\n",
       "      <td>0.798270</td>\n",
       "    </tr>\n",
       "    <tr>\n",
       "      <th>25</th>\n",
       "      <td>DrugAbuseDX</td>\n",
       "      <td>0.446196</td>\n",
       "    </tr>\n",
       "  </tbody>\n",
       "</table>\n",
       "</div>"
      ],
      "text/plain": [
       "                        features      coef\n",
       "0                            Age -0.004447\n",
       "1          NumberActiveMedOrders -0.000301\n",
       "2              Days_Stay_Current  0.002262\n",
       "3   CntComorbidityDXLast12Months  0.018370\n",
       "4             CntNumPastEDVisits  0.073520\n",
       "5                    FutureAppts -0.156674\n",
       "6                  HemoglobinVal -0.192358\n",
       "7                     CalciumVal  0.049869\n",
       "8                         BUNVal -0.765321\n",
       "9                  CreatinineVal  0.128874\n",
       "10                        PO4Val  0.295018\n",
       "11                        INRVal  0.341683\n",
       "12                Anticoagulants  0.381498\n",
       "13               Corticosteroids  0.306529\n",
       "14                        NSAIDs -0.452913\n",
       "15                     AntiPsych  0.159738\n",
       "16                     UlcerMeds -0.099951\n",
       "17                  ImagingCount -0.011623\n",
       "18                      EKGCount  0.179888\n",
       "19                RestraintCount -0.035260\n",
       "20                      CancerDX  0.657242\n",
       "21        ElectroylyteDisorderDX  0.133690\n",
       "22            DeficiencyAnemiaDX  0.790936\n",
       "23                RenalFailureDX  0.394950\n",
       "24            LOSge10Last12Month  0.798270\n",
       "25                   DrugAbuseDX  0.446196"
      ]
     },
     "execution_count": 44,
     "metadata": {},
     "output_type": "execute_result"
    }
   ],
   "source": [
    "coef"
   ]
  },
  {
   "cell_type": "code",
   "execution_count": 45,
   "metadata": {
    "collapsed": true
   },
   "outputs": [],
   "source": [
    "predictions = logmodel.predict(X_test)\n",
    "cls_predictions = cls.predict(X_test)"
   ]
  },
  {
   "cell_type": "code",
   "execution_count": 46,
   "metadata": {
    "collapsed": true
   },
   "outputs": [],
   "source": [
    "from sklearn.metrics import classification_report\n",
    "from sklearn.metrics import confusion_matrix\n",
    "from sklearn.metrics import accuracy_score\n",
    "from sklearn.metrics import roc_curve\n",
    "from sklearn.metrics import auc\n",
    "from sklearn.metrics import brier_score_loss"
   ]
  },
  {
   "cell_type": "code",
   "execution_count": 47,
   "metadata": {},
   "outputs": [
    {
     "data": {
      "text/plain": [
       "<function matplotlib.pyplot.show>"
      ]
     },
     "execution_count": 47,
     "metadata": {},
     "output_type": "execute_result"
    },
    {
     "data": {
      "image/png": "[encoded data removed]",
      "text/plain": [
       "<matplotlib.figure.Figure at 0x2bb51308da0>"
      ]
     },
     "metadata": {},
     "output_type": "display_data"
    }
   ],
   "source": [
    "probs = logmodel.predict_proba(X_test)[:, 1]\n",
    "fpr, tpr, thresholds_auc = roc_curve(y_test, probs)\n",
    "roc_auc = auc(fpr, tpr)\n",
    "\n",
    "plt.figure(figsize=(10,10))\n",
    "plt.title('Receiver Operating Characteristic')\n",
    "plt.plot(fpr, tpr, 'b', label='AUC = %0.2f'% roc_auc)\n",
    "plt.legend(loc='lower right')\n",
    "plt.plot([0,1],[0,1], 'r--')\n",
    "plt.xlim([-0.1,1.1])\n",
    "plt.ylim([-0.1,1.1])\n",
    "plt.ylabel('True Positive Rate')\n",
    "plt.xlabel('False Positive Rate')\n",
    "plt.locator_params(nbins=6)\n",
    "plt.show"
   ]
  },
  {
   "cell_type": "code",
   "execution_count": 48,
   "metadata": {},
   "outputs": [
    {
     "data": {
      "text/html": [
       "<div>\n",
       "<style>\n",
       "    .dataframe thead tr:only-child th {\n",
       "        text-align: right;\n",
       "    }\n",
       "\n",
       "    .dataframe thead th {\n",
       "        text-align: left;\n",
       "    }\n",
       "\n",
       "    .dataframe tbody tr th {\n",
       "        vertical-align: top;\n",
       "    }\n",
       "</style>\n",
       "<table border=\"1\" class=\"dataframe\">\n",
       "  <thead>\n",
       "    <tr style=\"text-align: right;\">\n",
       "      <th></th>\n",
       "      <th>Pred No</th>\n",
       "      <th>Pred Yes</th>\n",
       "    </tr>\n",
       "  </thead>\n",
       "  <tbody>\n",
       "    <tr>\n",
       "      <th>Act No</th>\n",
       "      <td>8206</td>\n",
       "      <td>3590</td>\n",
       "    </tr>\n",
       "    <tr>\n",
       "      <th>Act Yes</th>\n",
       "      <td>788</td>\n",
       "      <td>1111</td>\n",
       "    </tr>\n",
       "  </tbody>\n",
       "</table>\n",
       "</div>"
      ],
      "text/plain": [
       "         Pred No  Pred Yes\n",
       "Act No      8206      3590\n",
       "Act Yes      788      1111"
      ]
     },
     "execution_count": 48,
     "metadata": {},
     "output_type": "execute_result"
    }
   ],
   "source": [
    "matrix = pd.DataFrame(data=confusion_matrix(y_test, predictions))\n",
    "matrix.columns = ['Pred No', 'Pred Yes']\n",
    "matrix.index = ['Act No', 'Act Yes']\n",
    "matrix"
   ]
  },
  {
   "cell_type": "markdown",
   "metadata": {},
   "source": [
    "<h4> % of Total Readmission Caught</h4>"
   ]
  },
  {
   "cell_type": "code",
   "execution_count": 49,
   "metadata": {},
   "outputs": [
    {
     "data": {
      "text/plain": [
       "0.58504476040021058"
      ]
     },
     "execution_count": 49,
     "metadata": {},
     "output_type": "execute_result"
    }
   ],
   "source": [
    "matrix.iloc[1,1]/matrix.iloc[1,:].sum()"
   ]
  },
  {
   "cell_type": "markdown",
   "metadata": {},
   "source": [
    "<h4> False Positive Rate</h4>"
   ]
  },
  {
   "cell_type": "code",
   "execution_count": 50,
   "metadata": {},
   "outputs": [
    {
     "data": {
      "text/plain": [
       "0.30434045439131907"
      ]
     },
     "execution_count": 50,
     "metadata": {},
     "output_type": "execute_result"
    }
   ],
   "source": [
    "matrix.iloc[0,1]/matrix.iloc[0,:].sum()"
   ]
  },
  {
   "cell_type": "code",
   "execution_count": 51,
   "metadata": {
    "scrolled": true
   },
   "outputs": [
    {
     "name": "stdout",
     "output_type": "stream",
     "text": [
      "             precision    recall  f1-score   support\n",
      "\n",
      "          0       0.91      0.70      0.79     11796\n",
      "          1       0.24      0.59      0.34      1899\n",
      "\n",
      "avg / total       0.82      0.68      0.73     13695\n",
      "\n"
     ]
    }
   ],
   "source": [
    "print(classification_report(y_test,predictions))"
   ]
  },
  {
   "cell_type": "markdown",
   "metadata": {},
   "source": [
    "<h4> Brier Score - Peds </h4>"
   ]
  },
  {
   "cell_type": "code",
   "execution_count": 52,
   "metadata": {},
   "outputs": [
    {
     "name": "stdout",
     "output_type": "stream",
     "text": [
      "0.217228251763\n"
     ]
    }
   ],
   "source": [
    "print(brier_score_loss(y_test,probs))"
   ]
  },
  {
   "cell_type": "code",
   "execution_count": 53,
   "metadata": {
    "collapsed": true
   },
   "outputs": [],
   "source": [
    "peds = pd.DataFrame({'labels' : y_test, 'predictions' : probs})\n",
    "peds = pd.concat([peds, X_test], axis=1)"
   ]
  },
  {
   "cell_type": "code",
   "execution_count": 54,
   "metadata": {},
   "outputs": [
    {
     "data": {
      "text/html": [
       "<div>\n",
       "<style>\n",
       "    .dataframe thead tr:only-child th {\n",
       "        text-align: right;\n",
       "    }\n",
       "\n",
       "    .dataframe thead th {\n",
       "        text-align: left;\n",
       "    }\n",
       "\n",
       "    .dataframe tbody tr th {\n",
       "        vertical-align: top;\n",
       "    }\n",
       "</style>\n",
       "<table border=\"1\" class=\"dataframe\">\n",
       "  <thead>\n",
       "    <tr style=\"text-align: right;\">\n",
       "      <th></th>\n",
       "      <th>Pred No</th>\n",
       "      <th>Pred Yes</th>\n",
       "    </tr>\n",
       "  </thead>\n",
       "  <tbody>\n",
       "    <tr>\n",
       "      <th>Act No</th>\n",
       "      <td>11609</td>\n",
       "      <td>187</td>\n",
       "    </tr>\n",
       "    <tr>\n",
       "      <th>Act Yes</th>\n",
       "      <td>1683</td>\n",
       "      <td>216</td>\n",
       "    </tr>\n",
       "  </tbody>\n",
       "</table>\n",
       "</div>"
      ],
      "text/plain": [
       "         Pred No  Pred Yes\n",
       "Act No     11609       187\n",
       "Act Yes     1683       216"
      ]
     },
     "execution_count": 54,
     "metadata": {},
     "output_type": "execute_result"
    }
   ],
   "source": [
    "matrix = pd.DataFrame(data=confusion_matrix(y_test, cls_predictions))\n",
    "matrix.columns = ['Pred No', 'Pred Yes']\n",
    "matrix.index = ['Act No', 'Act Yes']\n",
    "matrix"
   ]
  },
  {
   "cell_type": "code",
   "execution_count": 55,
   "metadata": {},
   "outputs": [
    {
     "name": "stdout",
     "output_type": "stream",
     "text": [
      "             precision    recall  f1-score   support\n",
      "\n",
      "          0       0.87      0.98      0.93     11796\n",
      "          1       0.54      0.11      0.19      1899\n",
      "\n",
      "avg / total       0.83      0.86      0.82     13695\n",
      "\n"
     ]
    }
   ],
   "source": [
    "print(classification_report(y_test,cls_predictions))"
   ]
  }
 ],
 "metadata": {
  "kernelspec": {
   "display_name": "Python 3",
   "language": "python",
   "name": "python3"
  },
  "language_info": {
   "codemirror_mode": {
    "name": "ipython",
    "version": 3
   },
   "file_extension": ".py",
   "mimetype": "text/x-python",
   "name": "python",
   "nbconvert_exporter": "python",
   "pygments_lexer": "ipython3",
   "version": "3.6.1"
  }
 },
 "nbformat": 4,
 "nbformat_minor": 1
}
