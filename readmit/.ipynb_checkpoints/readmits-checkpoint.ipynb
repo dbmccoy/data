{
 "cells": [
  {
   "cell_type": "code",
   "execution_count": 151,
   "metadata": {
    "collapsed": true
   },
   "outputs": [],
   "source": [
    "import pandas as pd\n",
    "import numpy as np\n",
    "import matplotlib.pyplot as plt\n",
    "import seaborn as sns\n",
    "%matplotlib inline"
   ]
  },
  {
   "cell_type": "code",
   "execution_count": 283,
   "metadata": {
    "collapsed": true
   },
   "outputs": [],
   "source": [
    "data = pd.read_csv('readmit.csv')\n",
    "#data.drop('HSP_ACCOUNT_ID',axis=1,inplace=True)"
   ]
  },
  {
   "cell_type": "code",
   "execution_count": 284,
   "metadata": {
    "scrolled": false
   },
   "outputs": [
    {
     "data": {
      "text/html": [
       "<div>\n",
       "<style>\n",
       "    .dataframe thead tr:only-child th {\n",
       "        text-align: right;\n",
       "    }\n",
       "\n",
       "    .dataframe thead th {\n",
       "        text-align: left;\n",
       "    }\n",
       "\n",
       "    .dataframe tbody tr th {\n",
       "        vertical-align: top;\n",
       "    }\n",
       "</style>\n",
       "<table border=\"1\" class=\"dataframe\">\n",
       "  <thead>\n",
       "    <tr style=\"text-align: right;\">\n",
       "      <th></th>\n",
       "      <th>HSP_ACCOUNT_ID</th>\n",
       "      <th>BirthDate</th>\n",
       "      <th>Age</th>\n",
       "      <th>AdmDate</th>\n",
       "      <th>DischDate</th>\n",
       "      <th>CntAdmitsSubsequent</th>\n",
       "      <th>NumberActiveMedOrders</th>\n",
       "      <th>Days_Stay_Current</th>\n",
       "      <th>CntComorbidityDXLast12Months</th>\n",
       "      <th>CntNumPastEDVisits</th>\n",
       "      <th>...</th>\n",
       "      <th>UlcerMeds</th>\n",
       "      <th>ImagingCount</th>\n",
       "      <th>EKGCount</th>\n",
       "      <th>RestraintCount</th>\n",
       "      <th>CancerDX</th>\n",
       "      <th>ElectroylyteDisorderDX</th>\n",
       "      <th>DeficiencyAnemiaDX</th>\n",
       "      <th>RenalFailureDX</th>\n",
       "      <th>LOSge10Last12Month</th>\n",
       "      <th>DrugAbuseDX</th>\n",
       "    </tr>\n",
       "  </thead>\n",
       "  <tbody>\n",
       "    <tr>\n",
       "      <th>0</th>\n",
       "      <td>20758587</td>\n",
       "      <td>8/31/2000</td>\n",
       "      <td>17</td>\n",
       "      <td>1/6/2017</td>\n",
       "      <td>1/7/2017</td>\n",
       "      <td>0</td>\n",
       "      <td>42</td>\n",
       "      <td>292</td>\n",
       "      <td>0</td>\n",
       "      <td>0</td>\n",
       "      <td>...</td>\n",
       "      <td>2</td>\n",
       "      <td>0</td>\n",
       "      <td>0</td>\n",
       "      <td>0</td>\n",
       "      <td>N</td>\n",
       "      <td>0</td>\n",
       "      <td>0</td>\n",
       "      <td>0</td>\n",
       "      <td>0</td>\n",
       "      <td>0</td>\n",
       "    </tr>\n",
       "    <tr>\n",
       "      <th>1</th>\n",
       "      <td>20768584</td>\n",
       "      <td>12/7/1960</td>\n",
       "      <td>57</td>\n",
       "      <td>1/2/2017</td>\n",
       "      <td>1/5/2017</td>\n",
       "      <td>1</td>\n",
       "      <td>23</td>\n",
       "      <td>296</td>\n",
       "      <td>0</td>\n",
       "      <td>6</td>\n",
       "      <td>...</td>\n",
       "      <td>2</td>\n",
       "      <td>4</td>\n",
       "      <td>0</td>\n",
       "      <td>0</td>\n",
       "      <td>N</td>\n",
       "      <td>1</td>\n",
       "      <td>0</td>\n",
       "      <td>0</td>\n",
       "      <td>0</td>\n",
       "      <td>0</td>\n",
       "    </tr>\n",
       "    <tr>\n",
       "      <th>2</th>\n",
       "      <td>20768669</td>\n",
       "      <td>12/2/1990</td>\n",
       "      <td>27</td>\n",
       "      <td>1/2/2017</td>\n",
       "      <td>1/5/2017</td>\n",
       "      <td>0</td>\n",
       "      <td>35</td>\n",
       "      <td>296</td>\n",
       "      <td>0</td>\n",
       "      <td>1</td>\n",
       "      <td>...</td>\n",
       "      <td>1</td>\n",
       "      <td>0</td>\n",
       "      <td>0</td>\n",
       "      <td>0</td>\n",
       "      <td>N</td>\n",
       "      <td>0</td>\n",
       "      <td>0</td>\n",
       "      <td>0</td>\n",
       "      <td>0</td>\n",
       "      <td>0</td>\n",
       "    </tr>\n",
       "    <tr>\n",
       "      <th>3</th>\n",
       "      <td>20768672</td>\n",
       "      <td>6/10/1986</td>\n",
       "      <td>31</td>\n",
       "      <td>1/3/2017</td>\n",
       "      <td>1/5/2017</td>\n",
       "      <td>0</td>\n",
       "      <td>38</td>\n",
       "      <td>295</td>\n",
       "      <td>0</td>\n",
       "      <td>0</td>\n",
       "      <td>...</td>\n",
       "      <td>4</td>\n",
       "      <td>0</td>\n",
       "      <td>0</td>\n",
       "      <td>0</td>\n",
       "      <td>N</td>\n",
       "      <td>0</td>\n",
       "      <td>0</td>\n",
       "      <td>0</td>\n",
       "      <td>0</td>\n",
       "      <td>0</td>\n",
       "    </tr>\n",
       "    <tr>\n",
       "      <th>4</th>\n",
       "      <td>20768701</td>\n",
       "      <td>6/5/1924</td>\n",
       "      <td>93</td>\n",
       "      <td>1/3/2017</td>\n",
       "      <td>1/7/2017</td>\n",
       "      <td>0</td>\n",
       "      <td>22</td>\n",
       "      <td>295</td>\n",
       "      <td>0</td>\n",
       "      <td>1</td>\n",
       "      <td>...</td>\n",
       "      <td>0</td>\n",
       "      <td>0</td>\n",
       "      <td>1</td>\n",
       "      <td>0</td>\n",
       "      <td>N</td>\n",
       "      <td>0</td>\n",
       "      <td>0</td>\n",
       "      <td>0</td>\n",
       "      <td>0</td>\n",
       "      <td>0</td>\n",
       "    </tr>\n",
       "  </tbody>\n",
       "</table>\n",
       "<p>5 rows × 38 columns</p>\n",
       "</div>"
      ],
      "text/plain": [
       "   HSP_ACCOUNT_ID  BirthDate  Age   AdmDate DischDate  CntAdmitsSubsequent  \\\n",
       "0        20758587  8/31/2000   17  1/6/2017  1/7/2017                    0   \n",
       "1        20768584  12/7/1960   57  1/2/2017  1/5/2017                    1   \n",
       "2        20768669  12/2/1990   27  1/2/2017  1/5/2017                    0   \n",
       "3        20768672  6/10/1986   31  1/3/2017  1/5/2017                    0   \n",
       "4        20768701   6/5/1924   93  1/3/2017  1/7/2017                    0   \n",
       "\n",
       "   NumberActiveMedOrders  Days_Stay_Current  CntComorbidityDXLast12Months  \\\n",
       "0                     42                292                             0   \n",
       "1                     23                296                             0   \n",
       "2                     35                296                             0   \n",
       "3                     38                295                             0   \n",
       "4                     22                295                             0   \n",
       "\n",
       "   CntNumPastEDVisits     ...      UlcerMeds ImagingCount EKGCount  \\\n",
       "0                   0     ...              2            0        0   \n",
       "1                   6     ...              2            4        0   \n",
       "2                   1     ...              1            0        0   \n",
       "3                   0     ...              4            0        0   \n",
       "4                   1     ...              0            0        1   \n",
       "\n",
       "  RestraintCount CancerDX ElectroylyteDisorderDX DeficiencyAnemiaDX  \\\n",
       "0              0        N                      0                  0   \n",
       "1              0        N                      1                  0   \n",
       "2              0        N                      0                  0   \n",
       "3              0        N                      0                  0   \n",
       "4              0        N                      0                  0   \n",
       "\n",
       "  RenalFailureDX LOSge10Last12Month DrugAbuseDX  \n",
       "0              0                  0           0  \n",
       "1              0                  0           0  \n",
       "2              0                  0           0  \n",
       "3              0                  0           0  \n",
       "4              0                  0           0  \n",
       "\n",
       "[5 rows x 38 columns]"
      ]
     },
     "execution_count": 284,
     "metadata": {},
     "output_type": "execute_result"
    }
   ],
   "source": [
    "data.head()"
   ]
  },
  {
   "cell_type": "code",
   "execution_count": 285,
   "metadata": {
    "collapsed": true
   },
   "outputs": [],
   "source": [
    "col = (pd.to_datetime(data['DischDate']) - pd.to_datetime(data['AdmDate']))"
   ]
  },
  {
   "cell_type": "code",
   "execution_count": 286,
   "metadata": {},
   "outputs": [],
   "source": [
    "booldict = {'N' : 0,\n",
    "            'Y' : 1}\n",
    "data['CancerDX'] = data['CancerDX'].map(lambda x: booldict[x])"
   ]
  },
  {
   "cell_type": "code",
   "execution_count": 287,
   "metadata": {},
   "outputs": [],
   "source": [
    "data['Days_Stay_Current'] = col.apply(lambda x: x.days)"
   ]
  },
  {
   "cell_type": "markdown",
   "metadata": {},
   "source": [
    "** Use info and describe() on ad_data**"
   ]
  },
  {
   "cell_type": "code",
   "execution_count": 289,
   "metadata": {},
   "outputs": [],
   "source": [
    "data = data[data['DischDate'] < '9/1/2017']\n",
    "data.drop('RenalFailureDX', axis=1, inplace=True)"
   ]
  },
  {
   "cell_type": "code",
   "execution_count": 290,
   "metadata": {
    "collapsed": true
   },
   "outputs": [],
   "source": [
    "data = data.dropna(axis=1,how='any')"
   ]
  },
  {
   "cell_type": "code",
   "execution_count": 291,
   "metadata": {
    "scrolled": false
   },
   "outputs": [
    {
     "name": "stdout",
     "output_type": "stream",
     "text": [
      "<class 'pandas.core.frame.DataFrame'>\n",
      "Int64Index: 17330 entries, 0 to 19781\n",
      "Data columns (total 25 columns):\n",
      "HSP_ACCOUNT_ID                  17330 non-null int64\n",
      "BirthDate                       17330 non-null object\n",
      "Age                             17330 non-null int64\n",
      "AdmDate                         17330 non-null object\n",
      "DischDate                       17330 non-null object\n",
      "CntAdmitsSubsequent             17330 non-null int64\n",
      "NumberActiveMedOrders           17330 non-null int64\n",
      "Days_Stay_Current               17330 non-null float64\n",
      "CntComorbidityDXLast12Months    17330 non-null int64\n",
      "CntNumPastEDVisits              17330 non-null int64\n",
      "FutureAppts                     17330 non-null int64\n",
      "Anticoagulants                  17330 non-null int64\n",
      "Corticosteroids                 17330 non-null int64\n",
      "NSAIDs                          17330 non-null int64\n",
      "Corticosteroids.1               17330 non-null int64\n",
      "AntiPsych                       17330 non-null int64\n",
      "UlcerMeds                       17330 non-null int64\n",
      "ImagingCount                    17330 non-null int64\n",
      "EKGCount                        17330 non-null int64\n",
      "RestraintCount                  17330 non-null int64\n",
      "CancerDX                        17330 non-null int64\n",
      "ElectroylyteDisorderDX          17330 non-null int64\n",
      "DeficiencyAnemiaDX              17330 non-null int64\n",
      "LOSge10Last12Month              17330 non-null int64\n",
      "DrugAbuseDX                     17330 non-null int64\n",
      "dtypes: float64(1), int64(21), object(3)\n",
      "memory usage: 3.4+ MB\n"
     ]
    }
   ],
   "source": [
    "data.info()"
   ]
  },
  {
   "cell_type": "code",
   "execution_count": 181,
   "metadata": {},
   "outputs": [],
   "source": [
    "falsedict = {True : 0,\n",
    "             False : 1}\n",
    "data['HasINRVal'] = data['INRVal'].isnull().map(lambda x: falsedict[x])"
   ]
  },
  {
   "cell_type": "code",
   "execution_count": 174,
   "metadata": {},
   "outputs": [
    {
     "data": {
      "text/plain": [
       "Normal    5337\n",
       "High      1496\n",
       "Low          4\n",
       "Name: INRVal, dtype: int64"
      ]
     },
     "execution_count": 174,
     "metadata": {},
     "output_type": "execute_result"
    }
   ],
   "source": [
    "data['INRVal'].value_counts()"
   ]
  },
  {
   "cell_type": "code",
   "execution_count": 292,
   "metadata": {},
   "outputs": [],
   "source": [
    "#dummify count vars\n",
    "\n",
    "def dummy(val):\n",
    "    if val == 0:\n",
    "        return 0\n",
    "    else:\n",
    "        return 1\n",
    "\n",
    "def dummy_col(col):\n",
    "    return col.apply(lambda x: dummy(x))\n",
    "\n",
    "dummycols = ['Anticoagulants', 'Corticosteroids', 'NSAIDs', 'UlcerMeds',\n",
    "             'ImagingCount', 'EKGCount', 'RestraintCount', 'ElectroylyteDisorderDX', 'DrugAbuseDX' ]\n",
    "\n",
    "for i in range(0,len(dummycols)):\n",
    "    data[dummycols[i]] = dummy_col(data[dummycols[i]])"
   ]
  },
  {
   "cell_type": "code",
   "execution_count": 297,
   "metadata": {
    "scrolled": false
   },
   "outputs": [
    {
     "data": {
      "text/html": [
       "<div>\n",
       "<style>\n",
       "    .dataframe thead tr:only-child th {\n",
       "        text-align: right;\n",
       "    }\n",
       "\n",
       "    .dataframe thead th {\n",
       "        text-align: left;\n",
       "    }\n",
       "\n",
       "    .dataframe tbody tr th {\n",
       "        vertical-align: top;\n",
       "    }\n",
       "</style>\n",
       "<table border=\"1\" class=\"dataframe\">\n",
       "  <thead>\n",
       "    <tr style=\"text-align: right;\">\n",
       "      <th></th>\n",
       "      <th>Age</th>\n",
       "      <th>CntAdmitsSubsequent</th>\n",
       "      <th>NumberActiveMedOrders</th>\n",
       "      <th>Days_Stay_Current</th>\n",
       "      <th>CntComorbidityDXLast12Months</th>\n",
       "      <th>CntNumPastEDVisits</th>\n",
       "      <th>FutureAppts</th>\n",
       "      <th>Anticoagulants</th>\n",
       "      <th>Corticosteroids</th>\n",
       "      <th>NSAIDs</th>\n",
       "      <th>...</th>\n",
       "      <th>AntiPsych</th>\n",
       "      <th>UlcerMeds</th>\n",
       "      <th>ImagingCount</th>\n",
       "      <th>EKGCount</th>\n",
       "      <th>RestraintCount</th>\n",
       "      <th>CancerDX</th>\n",
       "      <th>ElectroylyteDisorderDX</th>\n",
       "      <th>DeficiencyAnemiaDX</th>\n",
       "      <th>LOSge10Last12Month</th>\n",
       "      <th>DrugAbuseDX</th>\n",
       "    </tr>\n",
       "  </thead>\n",
       "  <tbody>\n",
       "    <tr>\n",
       "      <th>count</th>\n",
       "      <td>17330.000000</td>\n",
       "      <td>17330.000000</td>\n",
       "      <td>17330.000000</td>\n",
       "      <td>17330.000000</td>\n",
       "      <td>17330.000000</td>\n",
       "      <td>17330.000000</td>\n",
       "      <td>17330.00000</td>\n",
       "      <td>17330.000000</td>\n",
       "      <td>17330.000000</td>\n",
       "      <td>17330.000000</td>\n",
       "      <td>...</td>\n",
       "      <td>17330.000000</td>\n",
       "      <td>17330.000000</td>\n",
       "      <td>17330.000000</td>\n",
       "      <td>17330.000000</td>\n",
       "      <td>17330.000000</td>\n",
       "      <td>17330.000000</td>\n",
       "      <td>17330.000000</td>\n",
       "      <td>17330.000000</td>\n",
       "      <td>17330.000000</td>\n",
       "      <td>17330.000000</td>\n",
       "    </tr>\n",
       "    <tr>\n",
       "      <th>mean</th>\n",
       "      <td>40.020427</td>\n",
       "      <td>0.109233</td>\n",
       "      <td>41.267975</td>\n",
       "      <td>5.647778</td>\n",
       "      <td>0.690075</td>\n",
       "      <td>2.740565</td>\n",
       "      <td>1.04974</td>\n",
       "      <td>0.525389</td>\n",
       "      <td>0.231160</td>\n",
       "      <td>0.279400</td>\n",
       "      <td>...</td>\n",
       "      <td>0.607732</td>\n",
       "      <td>0.523081</td>\n",
       "      <td>0.673226</td>\n",
       "      <td>0.455972</td>\n",
       "      <td>0.088171</td>\n",
       "      <td>0.084939</td>\n",
       "      <td>0.116272</td>\n",
       "      <td>0.000519</td>\n",
       "      <td>0.067340</td>\n",
       "      <td>0.034391</td>\n",
       "    </tr>\n",
       "    <tr>\n",
       "      <th>std</th>\n",
       "      <td>23.429111</td>\n",
       "      <td>0.311940</td>\n",
       "      <td>38.992508</td>\n",
       "      <td>7.537101</td>\n",
       "      <td>2.009648</td>\n",
       "      <td>6.668804</td>\n",
       "      <td>1.57746</td>\n",
       "      <td>0.499369</td>\n",
       "      <td>0.421587</td>\n",
       "      <td>0.448717</td>\n",
       "      <td>...</td>\n",
       "      <td>2.253297</td>\n",
       "      <td>0.499481</td>\n",
       "      <td>0.469048</td>\n",
       "      <td>0.498072</td>\n",
       "      <td>0.283551</td>\n",
       "      <td>0.278800</td>\n",
       "      <td>0.320560</td>\n",
       "      <td>0.022784</td>\n",
       "      <td>0.295035</td>\n",
       "      <td>0.182237</td>\n",
       "    </tr>\n",
       "    <tr>\n",
       "      <th>min</th>\n",
       "      <td>0.000000</td>\n",
       "      <td>0.000000</td>\n",
       "      <td>0.000000</td>\n",
       "      <td>0.000000</td>\n",
       "      <td>0.000000</td>\n",
       "      <td>0.000000</td>\n",
       "      <td>0.00000</td>\n",
       "      <td>0.000000</td>\n",
       "      <td>0.000000</td>\n",
       "      <td>0.000000</td>\n",
       "      <td>...</td>\n",
       "      <td>0.000000</td>\n",
       "      <td>0.000000</td>\n",
       "      <td>0.000000</td>\n",
       "      <td>0.000000</td>\n",
       "      <td>0.000000</td>\n",
       "      <td>0.000000</td>\n",
       "      <td>0.000000</td>\n",
       "      <td>0.000000</td>\n",
       "      <td>0.000000</td>\n",
       "      <td>0.000000</td>\n",
       "    </tr>\n",
       "    <tr>\n",
       "      <th>25%</th>\n",
       "      <td>24.000000</td>\n",
       "      <td>0.000000</td>\n",
       "      <td>19.000000</td>\n",
       "      <td>2.000000</td>\n",
       "      <td>0.000000</td>\n",
       "      <td>0.000000</td>\n",
       "      <td>0.00000</td>\n",
       "      <td>0.000000</td>\n",
       "      <td>0.000000</td>\n",
       "      <td>0.000000</td>\n",
       "      <td>...</td>\n",
       "      <td>0.000000</td>\n",
       "      <td>0.000000</td>\n",
       "      <td>0.000000</td>\n",
       "      <td>0.000000</td>\n",
       "      <td>0.000000</td>\n",
       "      <td>0.000000</td>\n",
       "      <td>0.000000</td>\n",
       "      <td>0.000000</td>\n",
       "      <td>0.000000</td>\n",
       "      <td>0.000000</td>\n",
       "    </tr>\n",
       "    <tr>\n",
       "      <th>50%</th>\n",
       "      <td>42.000000</td>\n",
       "      <td>0.000000</td>\n",
       "      <td>31.000000</td>\n",
       "      <td>3.000000</td>\n",
       "      <td>0.000000</td>\n",
       "      <td>1.000000</td>\n",
       "      <td>1.00000</td>\n",
       "      <td>1.000000</td>\n",
       "      <td>0.000000</td>\n",
       "      <td>0.000000</td>\n",
       "      <td>...</td>\n",
       "      <td>0.000000</td>\n",
       "      <td>1.000000</td>\n",
       "      <td>1.000000</td>\n",
       "      <td>0.000000</td>\n",
       "      <td>0.000000</td>\n",
       "      <td>0.000000</td>\n",
       "      <td>0.000000</td>\n",
       "      <td>0.000000</td>\n",
       "      <td>0.000000</td>\n",
       "      <td>0.000000</td>\n",
       "    </tr>\n",
       "    <tr>\n",
       "      <th>75%</th>\n",
       "      <td>59.000000</td>\n",
       "      <td>0.000000</td>\n",
       "      <td>52.000000</td>\n",
       "      <td>6.000000</td>\n",
       "      <td>0.000000</td>\n",
       "      <td>3.000000</td>\n",
       "      <td>1.00000</td>\n",
       "      <td>1.000000</td>\n",
       "      <td>0.000000</td>\n",
       "      <td>1.000000</td>\n",
       "      <td>...</td>\n",
       "      <td>0.000000</td>\n",
       "      <td>1.000000</td>\n",
       "      <td>1.000000</td>\n",
       "      <td>1.000000</td>\n",
       "      <td>0.000000</td>\n",
       "      <td>0.000000</td>\n",
       "      <td>0.000000</td>\n",
       "      <td>0.000000</td>\n",
       "      <td>0.000000</td>\n",
       "      <td>0.000000</td>\n",
       "    </tr>\n",
       "    <tr>\n",
       "      <th>max</th>\n",
       "      <td>117.000000</td>\n",
       "      <td>1.000000</td>\n",
       "      <td>754.000000</td>\n",
       "      <td>165.000000</td>\n",
       "      <td>25.000000</td>\n",
       "      <td>157.000000</td>\n",
       "      <td>31.00000</td>\n",
       "      <td>1.000000</td>\n",
       "      <td>1.000000</td>\n",
       "      <td>1.000000</td>\n",
       "      <td>...</td>\n",
       "      <td>43.000000</td>\n",
       "      <td>1.000000</td>\n",
       "      <td>1.000000</td>\n",
       "      <td>1.000000</td>\n",
       "      <td>1.000000</td>\n",
       "      <td>1.000000</td>\n",
       "      <td>1.000000</td>\n",
       "      <td>1.000000</td>\n",
       "      <td>5.000000</td>\n",
       "      <td>1.000000</td>\n",
       "    </tr>\n",
       "  </tbody>\n",
       "</table>\n",
       "<p>8 rows × 21 columns</p>\n",
       "</div>"
      ],
      "text/plain": [
       "                Age  CntAdmitsSubsequent  NumberActiveMedOrders  \\\n",
       "count  17330.000000         17330.000000           17330.000000   \n",
       "mean      40.020427             0.109233              41.267975   \n",
       "std       23.429111             0.311940              38.992508   \n",
       "min        0.000000             0.000000               0.000000   \n",
       "25%       24.000000             0.000000              19.000000   \n",
       "50%       42.000000             0.000000              31.000000   \n",
       "75%       59.000000             0.000000              52.000000   \n",
       "max      117.000000             1.000000             754.000000   \n",
       "\n",
       "       Days_Stay_Current  CntComorbidityDXLast12Months  CntNumPastEDVisits  \\\n",
       "count       17330.000000                  17330.000000        17330.000000   \n",
       "mean            5.647778                      0.690075            2.740565   \n",
       "std             7.537101                      2.009648            6.668804   \n",
       "min             0.000000                      0.000000            0.000000   \n",
       "25%             2.000000                      0.000000            0.000000   \n",
       "50%             3.000000                      0.000000            1.000000   \n",
       "75%             6.000000                      0.000000            3.000000   \n",
       "max           165.000000                     25.000000          157.000000   \n",
       "\n",
       "       FutureAppts  Anticoagulants  Corticosteroids        NSAIDs  \\\n",
       "count  17330.00000    17330.000000     17330.000000  17330.000000   \n",
       "mean       1.04974        0.525389         0.231160      0.279400   \n",
       "std        1.57746        0.499369         0.421587      0.448717   \n",
       "min        0.00000        0.000000         0.000000      0.000000   \n",
       "25%        0.00000        0.000000         0.000000      0.000000   \n",
       "50%        1.00000        1.000000         0.000000      0.000000   \n",
       "75%        1.00000        1.000000         0.000000      1.000000   \n",
       "max       31.00000        1.000000         1.000000      1.000000   \n",
       "\n",
       "           ...          AntiPsych     UlcerMeds  ImagingCount      EKGCount  \\\n",
       "count      ...       17330.000000  17330.000000  17330.000000  17330.000000   \n",
       "mean       ...           0.607732      0.523081      0.673226      0.455972   \n",
       "std        ...           2.253297      0.499481      0.469048      0.498072   \n",
       "min        ...           0.000000      0.000000      0.000000      0.000000   \n",
       "25%        ...           0.000000      0.000000      0.000000      0.000000   \n",
       "50%        ...           0.000000      1.000000      1.000000      0.000000   \n",
       "75%        ...           0.000000      1.000000      1.000000      1.000000   \n",
       "max        ...          43.000000      1.000000      1.000000      1.000000   \n",
       "\n",
       "       RestraintCount      CancerDX  ElectroylyteDisorderDX  \\\n",
       "count    17330.000000  17330.000000            17330.000000   \n",
       "mean         0.088171      0.084939                0.116272   \n",
       "std          0.283551      0.278800                0.320560   \n",
       "min          0.000000      0.000000                0.000000   \n",
       "25%          0.000000      0.000000                0.000000   \n",
       "50%          0.000000      0.000000                0.000000   \n",
       "75%          0.000000      0.000000                0.000000   \n",
       "max          1.000000      1.000000                1.000000   \n",
       "\n",
       "       DeficiencyAnemiaDX  LOSge10Last12Month   DrugAbuseDX  \n",
       "count        17330.000000        17330.000000  17330.000000  \n",
       "mean             0.000519            0.067340      0.034391  \n",
       "std              0.022784            0.295035      0.182237  \n",
       "min              0.000000            0.000000      0.000000  \n",
       "25%              0.000000            0.000000      0.000000  \n",
       "50%              0.000000            0.000000      0.000000  \n",
       "75%              0.000000            0.000000      0.000000  \n",
       "max              1.000000            5.000000      1.000000  \n",
       "\n",
       "[8 rows x 21 columns]"
      ]
     },
     "execution_count": 297,
     "metadata": {},
     "output_type": "execute_result"
    }
   ],
   "source": [
    "data.describe()"
   ]
  },
  {
   "cell_type": "code",
   "execution_count": 294,
   "metadata": {},
   "outputs": [],
   "source": [
    "dict = {\n",
    "    0 : 0,\n",
    "    1 : 1,\n",
    "    2 : 1,\n",
    "    3 : 1,\n",
    "    4 : 1\n",
    "}\n",
    "data['CntAdmitsSubsequent'] = data['CntAdmitsSubsequent'].map(lambda x: dict[x])"
   ]
  },
  {
   "cell_type": "code",
   "execution_count": 298,
   "metadata": {
    "collapsed": true
   },
   "outputs": [],
   "source": [
    "from sklearn.model_selection import train_test_split"
   ]
  },
  {
   "cell_type": "code",
   "execution_count": 296,
   "metadata": {},
   "outputs": [],
   "source": [
    "data.drop(['HSP_ACCOUNT_ID', 'BirthDate', 'AdmDate', 'DischDate'], axis=1, inplace=True)"
   ]
  },
  {
   "cell_type": "code",
   "execution_count": 299,
   "metadata": {
    "collapsed": true
   },
   "outputs": [],
   "source": [
    "X = data.drop('CntAdmitsSubsequent', axis=1)"
   ]
  },
  {
   "cell_type": "code",
   "execution_count": 300,
   "metadata": {},
   "outputs": [
    {
     "data": {
      "text/html": [
       "<div>\n",
       "<style>\n",
       "    .dataframe thead tr:only-child th {\n",
       "        text-align: right;\n",
       "    }\n",
       "\n",
       "    .dataframe thead th {\n",
       "        text-align: left;\n",
       "    }\n",
       "\n",
       "    .dataframe tbody tr th {\n",
       "        vertical-align: top;\n",
       "    }\n",
       "</style>\n",
       "<table border=\"1\" class=\"dataframe\">\n",
       "  <thead>\n",
       "    <tr style=\"text-align: right;\">\n",
       "      <th></th>\n",
       "      <th>Age</th>\n",
       "      <th>NumberActiveMedOrders</th>\n",
       "      <th>Days_Stay_Current</th>\n",
       "      <th>CntComorbidityDXLast12Months</th>\n",
       "      <th>CntNumPastEDVisits</th>\n",
       "      <th>FutureAppts</th>\n",
       "      <th>Anticoagulants</th>\n",
       "      <th>Corticosteroids</th>\n",
       "      <th>NSAIDs</th>\n",
       "      <th>Corticosteroids.1</th>\n",
       "      <th>AntiPsych</th>\n",
       "      <th>UlcerMeds</th>\n",
       "      <th>ImagingCount</th>\n",
       "      <th>EKGCount</th>\n",
       "      <th>RestraintCount</th>\n",
       "      <th>CancerDX</th>\n",
       "      <th>ElectroylyteDisorderDX</th>\n",
       "      <th>DeficiencyAnemiaDX</th>\n",
       "      <th>LOSge10Last12Month</th>\n",
       "      <th>DrugAbuseDX</th>\n",
       "    </tr>\n",
       "  </thead>\n",
       "  <tbody>\n",
       "    <tr>\n",
       "      <th>0</th>\n",
       "      <td>17</td>\n",
       "      <td>42</td>\n",
       "      <td>1.0</td>\n",
       "      <td>0</td>\n",
       "      <td>0</td>\n",
       "      <td>1</td>\n",
       "      <td>0</td>\n",
       "      <td>1</td>\n",
       "      <td>1</td>\n",
       "      <td>1</td>\n",
       "      <td>0</td>\n",
       "      <td>1</td>\n",
       "      <td>0</td>\n",
       "      <td>0</td>\n",
       "      <td>0</td>\n",
       "      <td>0</td>\n",
       "      <td>0</td>\n",
       "      <td>0</td>\n",
       "      <td>0</td>\n",
       "      <td>0</td>\n",
       "    </tr>\n",
       "    <tr>\n",
       "      <th>1</th>\n",
       "      <td>57</td>\n",
       "      <td>23</td>\n",
       "      <td>3.0</td>\n",
       "      <td>0</td>\n",
       "      <td>6</td>\n",
       "      <td>0</td>\n",
       "      <td>1</td>\n",
       "      <td>0</td>\n",
       "      <td>0</td>\n",
       "      <td>0</td>\n",
       "      <td>0</td>\n",
       "      <td>1</td>\n",
       "      <td>1</td>\n",
       "      <td>0</td>\n",
       "      <td>0</td>\n",
       "      <td>0</td>\n",
       "      <td>1</td>\n",
       "      <td>0</td>\n",
       "      <td>0</td>\n",
       "      <td>0</td>\n",
       "    </tr>\n",
       "    <tr>\n",
       "      <th>2</th>\n",
       "      <td>27</td>\n",
       "      <td>35</td>\n",
       "      <td>3.0</td>\n",
       "      <td>0</td>\n",
       "      <td>1</td>\n",
       "      <td>0</td>\n",
       "      <td>0</td>\n",
       "      <td>0</td>\n",
       "      <td>1</td>\n",
       "      <td>0</td>\n",
       "      <td>0</td>\n",
       "      <td>1</td>\n",
       "      <td>0</td>\n",
       "      <td>0</td>\n",
       "      <td>0</td>\n",
       "      <td>0</td>\n",
       "      <td>0</td>\n",
       "      <td>0</td>\n",
       "      <td>0</td>\n",
       "      <td>0</td>\n",
       "    </tr>\n",
       "    <tr>\n",
       "      <th>3</th>\n",
       "      <td>31</td>\n",
       "      <td>38</td>\n",
       "      <td>2.0</td>\n",
       "      <td>0</td>\n",
       "      <td>0</td>\n",
       "      <td>1</td>\n",
       "      <td>0</td>\n",
       "      <td>0</td>\n",
       "      <td>1</td>\n",
       "      <td>0</td>\n",
       "      <td>0</td>\n",
       "      <td>1</td>\n",
       "      <td>0</td>\n",
       "      <td>0</td>\n",
       "      <td>0</td>\n",
       "      <td>0</td>\n",
       "      <td>0</td>\n",
       "      <td>0</td>\n",
       "      <td>0</td>\n",
       "      <td>0</td>\n",
       "    </tr>\n",
       "    <tr>\n",
       "      <th>4</th>\n",
       "      <td>93</td>\n",
       "      <td>22</td>\n",
       "      <td>4.0</td>\n",
       "      <td>0</td>\n",
       "      <td>1</td>\n",
       "      <td>0</td>\n",
       "      <td>1</td>\n",
       "      <td>1</td>\n",
       "      <td>0</td>\n",
       "      <td>2</td>\n",
       "      <td>0</td>\n",
       "      <td>0</td>\n",
       "      <td>0</td>\n",
       "      <td>1</td>\n",
       "      <td>0</td>\n",
       "      <td>0</td>\n",
       "      <td>0</td>\n",
       "      <td>0</td>\n",
       "      <td>0</td>\n",
       "      <td>0</td>\n",
       "    </tr>\n",
       "  </tbody>\n",
       "</table>\n",
       "</div>"
      ],
      "text/plain": [
       "   Age  NumberActiveMedOrders  Days_Stay_Current  \\\n",
       "0   17                     42                1.0   \n",
       "1   57                     23                3.0   \n",
       "2   27                     35                3.0   \n",
       "3   31                     38                2.0   \n",
       "4   93                     22                4.0   \n",
       "\n",
       "   CntComorbidityDXLast12Months  CntNumPastEDVisits  FutureAppts  \\\n",
       "0                             0                   0            1   \n",
       "1                             0                   6            0   \n",
       "2                             0                   1            0   \n",
       "3                             0                   0            1   \n",
       "4                             0                   1            0   \n",
       "\n",
       "   Anticoagulants  Corticosteroids  NSAIDs  Corticosteroids.1  AntiPsych  \\\n",
       "0               0                1       1                  1          0   \n",
       "1               1                0       0                  0          0   \n",
       "2               0                0       1                  0          0   \n",
       "3               0                0       1                  0          0   \n",
       "4               1                1       0                  2          0   \n",
       "\n",
       "   UlcerMeds  ImagingCount  EKGCount  RestraintCount  CancerDX  \\\n",
       "0          1             0         0               0         0   \n",
       "1          1             1         0               0         0   \n",
       "2          1             0         0               0         0   \n",
       "3          1             0         0               0         0   \n",
       "4          0             0         1               0         0   \n",
       "\n",
       "   ElectroylyteDisorderDX  DeficiencyAnemiaDX  LOSge10Last12Month  DrugAbuseDX  \n",
       "0                       0                   0                   0            0  \n",
       "1                       1                   0                   0            0  \n",
       "2                       0                   0                   0            0  \n",
       "3                       0                   0                   0            0  \n",
       "4                       0                   0                   0            0  "
      ]
     },
     "execution_count": 300,
     "metadata": {},
     "output_type": "execute_result"
    }
   ],
   "source": [
    "X.head()"
   ]
  },
  {
   "cell_type": "code",
   "execution_count": 301,
   "metadata": {
    "collapsed": true
   },
   "outputs": [],
   "source": [
    "y = data['CntAdmitsSubsequent']"
   ]
  },
  {
   "cell_type": "code",
   "execution_count": 302,
   "metadata": {
    "collapsed": true
   },
   "outputs": [],
   "source": [
    "X_train, X_test, y_train, y_test = train_test_split(X, y, test_size=0.2, random_state=42)"
   ]
  },
  {
   "cell_type": "code",
   "execution_count": 303,
   "metadata": {
    "collapsed": true
   },
   "outputs": [],
   "source": [
    "from sklearn.linear_model import LogisticRegression"
   ]
  },
  {
   "cell_type": "code",
   "execution_count": 304,
   "metadata": {},
   "outputs": [
    {
     "data": {
      "text/plain": [
       "LogisticRegression(C=1.0, class_weight='balanced', dual=False,\n",
       "          fit_intercept=True, intercept_scaling=1, max_iter=100,\n",
       "          multi_class='ovr', n_jobs=1, penalty='l2', random_state=None,\n",
       "          solver='liblinear', tol=0.0001, verbose=0, warm_start=False)"
      ]
     },
     "execution_count": 304,
     "metadata": {},
     "output_type": "execute_result"
    }
   ],
   "source": [
    "logmodel = LogisticRegression(class_weight='balanced')\n",
    "logmodel.fit(X_train,y_train)"
   ]
  },
  {
   "cell_type": "code",
   "execution_count": 321,
   "metadata": {},
   "outputs": [
    {
     "data": {
      "text/plain": [
       "0                              Age\n",
       "1            NumberActiveMedOrders\n",
       "2                Days_Stay_Current\n",
       "3     CntComorbidityDXLast12Months\n",
       "4               CntNumPastEDVisits\n",
       "5                      FutureAppts\n",
       "6                   Anticoagulants\n",
       "7                  Corticosteroids\n",
       "8                           NSAIDs\n",
       "9                Corticosteroids.1\n",
       "10                       AntiPsych\n",
       "11                       UlcerMeds\n",
       "12                    ImagingCount\n",
       "13                        EKGCount\n",
       "14                  RestraintCount\n",
       "15                        CancerDX\n",
       "16          ElectroylyteDisorderDX\n",
       "17              DeficiencyAnemiaDX\n",
       "18              LOSge10Last12Month\n",
       "19                     DrugAbuseDX\n",
       "dtype: object"
      ]
     },
     "execution_count": 321,
     "metadata": {},
     "output_type": "execute_result"
    }
   ],
   "source": [
    "pd.Series(X_train.columns)"
   ]
  },
  {
   "cell_type": "code",
   "execution_count": 326,
   "metadata": {},
   "outputs": [
    {
     "data": {
      "text/plain": [
       "0     0.002538\n",
       "1    -0.001527\n",
       "2     0.015084\n",
       "3     0.086034\n",
       "4     0.116064\n",
       "5    -0.009551\n",
       "6     0.214138\n",
       "7     0.553750\n",
       "8    -0.358434\n",
       "9    -0.012462\n",
       "10    0.014339\n",
       "11   -0.061901\n",
       "12    0.231182\n",
       "13    0.182599\n",
       "14   -0.132079\n",
       "15    0.763544\n",
       "16    0.153697\n",
       "17    0.772563\n",
       "18    0.375153\n",
       "19    0.528288\n",
       "dtype: float64"
      ]
     },
     "execution_count": 326,
     "metadata": {},
     "output_type": "execute_result"
    }
   ],
   "source": [
    "pd.Series(logmodel.coef_[0])"
   ]
  },
  {
   "cell_type": "code",
   "execution_count": 337,
   "metadata": {},
   "outputs": [],
   "source": [
    "coef = pd.DataFrame({'coef' : pd.Series(logmodel.coef_[0]), 'features' : pd.Series(X_train.columns)})"
   ]
  },
  {
   "cell_type": "code",
   "execution_count": 338,
   "metadata": {},
   "outputs": [],
   "source": [
    "coef = coef[['features', 'coef']]"
   ]
  },
  {
   "cell_type": "code",
   "execution_count": 339,
   "metadata": {},
   "outputs": [
    {
     "data": {
      "text/html": [
       "<div>\n",
       "<style>\n",
       "    .dataframe thead tr:only-child th {\n",
       "        text-align: right;\n",
       "    }\n",
       "\n",
       "    .dataframe thead th {\n",
       "        text-align: left;\n",
       "    }\n",
       "\n",
       "    .dataframe tbody tr th {\n",
       "        vertical-align: top;\n",
       "    }\n",
       "</style>\n",
       "<table border=\"1\" class=\"dataframe\">\n",
       "  <thead>\n",
       "    <tr style=\"text-align: right;\">\n",
       "      <th></th>\n",
       "      <th>features</th>\n",
       "      <th>coef</th>\n",
       "    </tr>\n",
       "  </thead>\n",
       "  <tbody>\n",
       "    <tr>\n",
       "      <th>0</th>\n",
       "      <td>Age</td>\n",
       "      <td>0.002538</td>\n",
       "    </tr>\n",
       "    <tr>\n",
       "      <th>1</th>\n",
       "      <td>NumberActiveMedOrders</td>\n",
       "      <td>-0.001527</td>\n",
       "    </tr>\n",
       "    <tr>\n",
       "      <th>2</th>\n",
       "      <td>Days_Stay_Current</td>\n",
       "      <td>0.015084</td>\n",
       "    </tr>\n",
       "    <tr>\n",
       "      <th>3</th>\n",
       "      <td>CntComorbidityDXLast12Months</td>\n",
       "      <td>0.086034</td>\n",
       "    </tr>\n",
       "    <tr>\n",
       "      <th>4</th>\n",
       "      <td>CntNumPastEDVisits</td>\n",
       "      <td>0.116064</td>\n",
       "    </tr>\n",
       "    <tr>\n",
       "      <th>5</th>\n",
       "      <td>FutureAppts</td>\n",
       "      <td>-0.009551</td>\n",
       "    </tr>\n",
       "    <tr>\n",
       "      <th>6</th>\n",
       "      <td>Anticoagulants</td>\n",
       "      <td>0.214138</td>\n",
       "    </tr>\n",
       "    <tr>\n",
       "      <th>7</th>\n",
       "      <td>Corticosteroids</td>\n",
       "      <td>0.553750</td>\n",
       "    </tr>\n",
       "    <tr>\n",
       "      <th>8</th>\n",
       "      <td>NSAIDs</td>\n",
       "      <td>-0.358434</td>\n",
       "    </tr>\n",
       "    <tr>\n",
       "      <th>9</th>\n",
       "      <td>Corticosteroids.1</td>\n",
       "      <td>-0.012462</td>\n",
       "    </tr>\n",
       "    <tr>\n",
       "      <th>10</th>\n",
       "      <td>AntiPsych</td>\n",
       "      <td>0.014339</td>\n",
       "    </tr>\n",
       "    <tr>\n",
       "      <th>11</th>\n",
       "      <td>UlcerMeds</td>\n",
       "      <td>-0.061901</td>\n",
       "    </tr>\n",
       "    <tr>\n",
       "      <th>12</th>\n",
       "      <td>ImagingCount</td>\n",
       "      <td>0.231182</td>\n",
       "    </tr>\n",
       "    <tr>\n",
       "      <th>13</th>\n",
       "      <td>EKGCount</td>\n",
       "      <td>0.182599</td>\n",
       "    </tr>\n",
       "    <tr>\n",
       "      <th>14</th>\n",
       "      <td>RestraintCount</td>\n",
       "      <td>-0.132079</td>\n",
       "    </tr>\n",
       "    <tr>\n",
       "      <th>15</th>\n",
       "      <td>CancerDX</td>\n",
       "      <td>0.763544</td>\n",
       "    </tr>\n",
       "    <tr>\n",
       "      <th>16</th>\n",
       "      <td>ElectroylyteDisorderDX</td>\n",
       "      <td>0.153697</td>\n",
       "    </tr>\n",
       "    <tr>\n",
       "      <th>17</th>\n",
       "      <td>DeficiencyAnemiaDX</td>\n",
       "      <td>0.772563</td>\n",
       "    </tr>\n",
       "    <tr>\n",
       "      <th>18</th>\n",
       "      <td>LOSge10Last12Month</td>\n",
       "      <td>0.375153</td>\n",
       "    </tr>\n",
       "    <tr>\n",
       "      <th>19</th>\n",
       "      <td>DrugAbuseDX</td>\n",
       "      <td>0.528288</td>\n",
       "    </tr>\n",
       "  </tbody>\n",
       "</table>\n",
       "</div>"
      ],
      "text/plain": [
       "                        features      coef\n",
       "0                            Age  0.002538\n",
       "1          NumberActiveMedOrders -0.001527\n",
       "2              Days_Stay_Current  0.015084\n",
       "3   CntComorbidityDXLast12Months  0.086034\n",
       "4             CntNumPastEDVisits  0.116064\n",
       "5                    FutureAppts -0.009551\n",
       "6                 Anticoagulants  0.214138\n",
       "7                Corticosteroids  0.553750\n",
       "8                         NSAIDs -0.358434\n",
       "9              Corticosteroids.1 -0.012462\n",
       "10                     AntiPsych  0.014339\n",
       "11                     UlcerMeds -0.061901\n",
       "12                  ImagingCount  0.231182\n",
       "13                      EKGCount  0.182599\n",
       "14                RestraintCount -0.132079\n",
       "15                      CancerDX  0.763544\n",
       "16        ElectroylyteDisorderDX  0.153697\n",
       "17            DeficiencyAnemiaDX  0.772563\n",
       "18            LOSge10Last12Month  0.375153\n",
       "19                   DrugAbuseDX  0.528288"
      ]
     },
     "execution_count": 339,
     "metadata": {},
     "output_type": "execute_result"
    }
   ],
   "source": [
    "coef"
   ]
  },
  {
   "cell_type": "code",
   "execution_count": 305,
   "metadata": {
    "collapsed": true
   },
   "outputs": [],
   "source": [
    "predictions = logmodel.predict(X_test)"
   ]
  },
  {
   "cell_type": "code",
   "execution_count": 306,
   "metadata": {
    "collapsed": true
   },
   "outputs": [],
   "source": [
    "train_pred = logmodel.predict(X_train)"
   ]
  },
  {
   "cell_type": "code",
   "execution_count": 239,
   "metadata": {},
   "outputs": [
    {
     "data": {
      "text/plain": [
       "array([0, 0, 0, ..., 0, 0, 0], dtype=int64)"
      ]
     },
     "execution_count": 239,
     "metadata": {},
     "output_type": "execute_result"
    }
   ],
   "source": [
    "predictions"
   ]
  },
  {
   "cell_type": "code",
   "execution_count": 307,
   "metadata": {
    "collapsed": true
   },
   "outputs": [],
   "source": [
    "from sklearn.metrics import classification_report"
   ]
  },
  {
   "cell_type": "code",
   "execution_count": 308,
   "metadata": {
    "collapsed": true
   },
   "outputs": [],
   "source": [
    "from sklearn.metrics import confusion_matrix\n",
    "from sklearn.metrics import accuracy_score"
   ]
  },
  {
   "cell_type": "code",
   "execution_count": 255,
   "metadata": {},
   "outputs": [
    {
     "name": "stdout",
     "output_type": "stream",
     "text": [
      "             precision    recall  f1-score   support\n",
      "\n",
      "          0       0.89      0.99      0.94     12291\n",
      "          1       0.51      0.06      0.10      1572\n",
      "\n",
      "avg / total       0.85      0.89      0.84     13863\n",
      "\n"
     ]
    }
   ],
   "source": [
    "print(classification_report(y_train,train_pred))"
   ]
  },
  {
   "cell_type": "code",
   "execution_count": 309,
   "metadata": {},
   "outputs": [
    {
     "data": {
      "text/plain": [
       "0.73845931909982687"
      ]
     },
     "execution_count": 309,
     "metadata": {},
     "output_type": "execute_result"
    }
   ],
   "source": [
    "accuracy_score(y_train, train_pred)"
   ]
  },
  {
   "cell_type": "code",
   "execution_count": 311,
   "metadata": {},
   "outputs": [
    {
     "name": "stdout",
     "output_type": "stream",
     "text": [
      "[[9311 3034]\n",
      " [ 592  927]]\n"
     ]
    }
   ],
   "source": [
    "print(confusion_matrix(y_train,train_pred))"
   ]
  },
  {
   "cell_type": "code",
   "execution_count": 310,
   "metadata": {},
   "outputs": [
    {
     "data": {
      "text/plain": [
       "0.74148874783612229"
      ]
     },
     "execution_count": 310,
     "metadata": {},
     "output_type": "execute_result"
    }
   ],
   "source": [
    "accuracy_score(y_test, predictions)"
   ]
  },
  {
   "cell_type": "code",
   "execution_count": 312,
   "metadata": {},
   "outputs": [
    {
     "name": "stdout",
     "output_type": "stream",
     "text": [
      "[[2340  752]\n",
      " [ 144  230]]\n"
     ]
    }
   ],
   "source": [
    "print(confusion_matrix(y_test, predictions))"
   ]
  },
  {
   "cell_type": "code",
   "execution_count": 313,
   "metadata": {},
   "outputs": [
    {
     "name": "stdout",
     "output_type": "stream",
     "text": [
      "             precision    recall  f1-score   support\n",
      "\n",
      "          0       0.94      0.76      0.84      3092\n",
      "          1       0.23      0.61      0.34       374\n",
      "\n",
      "avg / total       0.87      0.74      0.79      3466\n",
      "\n"
     ]
    }
   ],
   "source": [
    "print(classification_report(y_test,predictions))"
   ]
  }
 ],
 "metadata": {
  "kernelspec": {
   "display_name": "Python 3",
   "language": "python",
   "name": "python3"
  },
  "language_info": {
   "codemirror_mode": {
    "name": "ipython",
    "version": 3
   },
   "file_extension": ".py",
   "mimetype": "text/x-python",
   "name": "python",
   "nbconvert_exporter": "python",
   "pygments_lexer": "ipython3",
   "version": "3.6.1"
  }
 },
 "nbformat": 4,
 "nbformat_minor": 1
}
