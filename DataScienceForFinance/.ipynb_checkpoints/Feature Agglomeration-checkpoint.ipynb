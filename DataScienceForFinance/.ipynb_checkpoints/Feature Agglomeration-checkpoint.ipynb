{
 "cells": [
  {
   "cell_type": "code",
   "execution_count": 37,
   "metadata": {
    "collapsed": true
   },
   "outputs": [],
   "source": [
    "import pandas as pd\n",
    "import numpy as np\n",
    "import matplotlib.pyplot as plt\n",
    "import seaborn as sns\n",
    "import datetime\n",
    "%matplotlib inline"
   ]
  },
  {
   "cell_type": "code",
   "execution_count": 326,
   "metadata": {
    "collapsed": true
   },
   "outputs": [],
   "source": [
    "close = pd.read_csv('stocks-us-adjClose.csv')\n",
    "high = pd.read_csv('stocks-us-adjHigh.csv')\n",
    "low = pd.read_csv('stocks-us-adjLow.csv')\n",
    "adjopen = pd.read_csv('stocks-us-adjOpen.csv')\n",
    "volume = pd.read_csv('stocks-us-Volume.csv')"
   ]
  },
  {
   "cell_type": "code",
   "execution_count": 327,
   "metadata": {
    "collapsed": true
   },
   "outputs": [],
   "source": [
    "start_date = '1/1/2016'\n",
    "end_date = '1/1/2017'"
   ]
  },
  {
   "cell_type": "markdown",
   "metadata": {},
   "source": [
    "<h3> Clean data, drop null values, transpose columns and rows </h3>"
   ]
  },
  {
   "cell_type": "code",
   "execution_count": 244,
   "metadata": {
    "collapsed": true
   },
   "outputs": [],
   "source": [
    "def cleanify(data):\n",
    "    \n",
    "    data.iloc[:,0] = data.iloc[:,0].apply(lambda x: datetime.datetime\n",
    "                                          .strptime(x, '%Y-%m-%d'))\n",
    "    data = data[(data.iloc[:,0] >= start_date) & (data.iloc[:,0] < end_date)]\n",
    "    data = data.dropna(axis=1, how='all')\n",
    "    data = data.dropna(axis=0, how='all')\n",
    "    data = data.transpose()\n",
    "    data = data.reset_index()\n",
    "    new_header = data.iloc[0]\n",
    "    data = data[1:]\n",
    "    data.columns = new_header\n",
    "    data.rename(columns={'compiled from Yahoo! Finance data by Matt Borthwick'\n",
    "                        :'Symbol'}, inplace=True)\n",
    "    return data"
   ]
  },
  {
   "cell_type": "code",
   "execution_count": 328,
   "metadata": {},
   "outputs": [],
   "source": [
    "close = cleanify(close)\n",
    "adjopen = cleanify(adjopen)"
   ]
  },
  {
   "cell_type": "markdown",
   "metadata": {},
   "source": [
    "<h3> Set df values to daily % change </h3>"
   ]
  },
  {
   "cell_type": "code",
   "execution_count": 329,
   "metadata": {},
   "outputs": [],
   "source": [
    "for x in close.columns:\n",
    "    if x != close.columns[0]:\n",
    "        close[x] = (close[x] - adjopen[x]) / adjopen[x] \n",
    "        \n",
    "df = close"
   ]
  },
  {
   "cell_type": "code",
   "execution_count": 330,
   "metadata": {},
   "outputs": [
    {
     "data": {
      "text/html": [
       "<div>\n",
       "<style>\n",
       "    .dataframe thead tr:only-child th {\n",
       "        text-align: right;\n",
       "    }\n",
       "\n",
       "    .dataframe thead th {\n",
       "        text-align: left;\n",
       "    }\n",
       "\n",
       "    .dataframe tbody tr th {\n",
       "        vertical-align: top;\n",
       "    }\n",
       "</style>\n",
       "<table border=\"1\" class=\"dataframe\">\n",
       "  <thead>\n",
       "    <tr style=\"text-align: right;\">\n",
       "      <th></th>\n",
       "      <th>Symbol</th>\n",
       "      <th>2016-01-04 00:00:00</th>\n",
       "      <th>2016-01-05 00:00:00</th>\n",
       "      <th>2016-01-06 00:00:00</th>\n",
       "      <th>2016-01-07 00:00:00</th>\n",
       "      <th>2016-01-08 00:00:00</th>\n",
       "      <th>2016-01-11 00:00:00</th>\n",
       "      <th>2016-01-12 00:00:00</th>\n",
       "      <th>2016-01-13 00:00:00</th>\n",
       "      <th>2016-01-14 00:00:00</th>\n",
       "      <th>...</th>\n",
       "      <th>2016-12-16 00:00:00</th>\n",
       "      <th>2016-12-19 00:00:00</th>\n",
       "      <th>2016-12-20 00:00:00</th>\n",
       "      <th>2016-12-21 00:00:00</th>\n",
       "      <th>2016-12-22 00:00:00</th>\n",
       "      <th>2016-12-23 00:00:00</th>\n",
       "      <th>2016-12-27 00:00:00</th>\n",
       "      <th>2016-12-28 00:00:00</th>\n",
       "      <th>2016-12-29 00:00:00</th>\n",
       "      <th>2016-12-30 00:00:00</th>\n",
       "    </tr>\n",
       "  </thead>\n",
       "  <tbody>\n",
       "    <tr>\n",
       "      <th>1</th>\n",
       "      <td>ED</td>\n",
       "      <td>0.008614</td>\n",
       "      <td>0.00729364</td>\n",
       "      <td>0.0119473</td>\n",
       "      <td>0.0182832</td>\n",
       "      <td>0.0092677</td>\n",
       "      <td>-0.00420481</td>\n",
       "      <td>-0.0128108</td>\n",
       "      <td>0.0152253</td>\n",
       "      <td>0.0159256</td>\n",
       "      <td>...</td>\n",
       "      <td>0.0123973</td>\n",
       "      <td>0.000136953</td>\n",
       "      <td>0.00575192</td>\n",
       "      <td>-0.00435728</td>\n",
       "      <td>0.00533442</td>\n",
       "      <td>-0.000271629</td>\n",
       "      <td>0.00326483</td>\n",
       "      <td>-0.00881716</td>\n",
       "      <td>0.0124384</td>\n",
       "      <td>-0.0053996</td>\n",
       "    </tr>\n",
       "    <tr>\n",
       "      <th>2</th>\n",
       "      <td>DD</td>\n",
       "      <td>-0.0342979</td>\n",
       "      <td>0.0247091</td>\n",
       "      <td>0.00110567</td>\n",
       "      <td>-0.0153698</td>\n",
       "      <td>-0.02128</td>\n",
       "      <td>-0.0299951</td>\n",
       "      <td>-0.015953</td>\n",
       "      <td>-0.0364777</td>\n",
       "      <td>0.00896472</td>\n",
       "      <td>...</td>\n",
       "      <td>-0.00239872</td>\n",
       "      <td>0.000933837</td>\n",
       "      <td>0.00213054</td>\n",
       "      <td>0.00265741</td>\n",
       "      <td>-0.000931586</td>\n",
       "      <td>-0.00173193</td>\n",
       "      <td>-0.0019971</td>\n",
       "      <td>-0.0115615</td>\n",
       "      <td>-0.00552416</td>\n",
       "      <td>-0.00690032</td>\n",
       "    </tr>\n",
       "    <tr>\n",
       "      <th>3</th>\n",
       "      <td>CVX</td>\n",
       "      <td>-0.00759524</td>\n",
       "      <td>0.00628858</td>\n",
       "      <td>-0.0156679</td>\n",
       "      <td>-0.0180959</td>\n",
       "      <td>-0.0151097</td>\n",
       "      <td>-0.0251056</td>\n",
       "      <td>-0.000608215</td>\n",
       "      <td>-0.0220058</td>\n",
       "      <td>0.0429531</td>\n",
       "      <td>...</td>\n",
       "      <td>0.00203671</td>\n",
       "      <td>-0.00608263</td>\n",
       "      <td>0.000848527</td>\n",
       "      <td>-0.00363353</td>\n",
       "      <td>0.00703743</td>\n",
       "      <td>8.4401e-05</td>\n",
       "      <td>-0.00236286</td>\n",
       "      <td>-0.00338089</td>\n",
       "      <td>-0.00161005</td>\n",
       "      <td>0.00221386</td>\n",
       "    </tr>\n",
       "    <tr>\n",
       "      <th>4</th>\n",
       "      <td>FL</td>\n",
       "      <td>0.0131864</td>\n",
       "      <td>0.0140867</td>\n",
       "      <td>-0.000306463</td>\n",
       "      <td>0.00656053</td>\n",
       "      <td>-0.0420167</td>\n",
       "      <td>-0.00476794</td>\n",
       "      <td>0.000157794</td>\n",
       "      <td>-0.0280624</td>\n",
       "      <td>0.00555465</td>\n",
       "      <td>...</td>\n",
       "      <td>-0.0123068</td>\n",
       "      <td>-0.00423</td>\n",
       "      <td>-0.000792873</td>\n",
       "      <td>0.00819124</td>\n",
       "      <td>-0.0350502</td>\n",
       "      <td>-0.00305684</td>\n",
       "      <td>-0.00111118</td>\n",
       "      <td>-0.0101573</td>\n",
       "      <td>-0.0051923</td>\n",
       "      <td>-0.00112726</td>\n",
       "    </tr>\n",
       "    <tr>\n",
       "      <th>5</th>\n",
       "      <td>CAT</td>\n",
       "      <td>0.0165969</td>\n",
       "      <td>-0.0160865</td>\n",
       "      <td>0.00363743</td>\n",
       "      <td>-0.0175169</td>\n",
       "      <td>-0.0161667</td>\n",
       "      <td>-0.0345531</td>\n",
       "      <td>-0.0134529</td>\n",
       "      <td>-0.0190108</td>\n",
       "      <td>0.016819</td>\n",
       "      <td>...</td>\n",
       "      <td>-0.0187599</td>\n",
       "      <td>0.0084847</td>\n",
       "      <td>0.0074754</td>\n",
       "      <td>-0.00466796</td>\n",
       "      <td>0.00362554</td>\n",
       "      <td>0.00565091</td>\n",
       "      <td>0.00222607</td>\n",
       "      <td>-0.0153277</td>\n",
       "      <td>0.00010722</td>\n",
       "      <td>-0.00322445</td>\n",
       "    </tr>\n",
       "  </tbody>\n",
       "</table>\n",
       "<p>5 rows × 253 columns</p>\n",
       "</div>"
      ],
      "text/plain": [
       "0 Symbol 2016-01-04 00:00:00 2016-01-05 00:00:00 2016-01-06 00:00:00  \\\n",
       "1     ED            0.008614          0.00729364           0.0119473   \n",
       "2     DD          -0.0342979           0.0247091          0.00110567   \n",
       "3    CVX         -0.00759524          0.00628858          -0.0156679   \n",
       "4     FL           0.0131864           0.0140867        -0.000306463   \n",
       "5    CAT           0.0165969          -0.0160865          0.00363743   \n",
       "\n",
       "0 2016-01-07 00:00:00 2016-01-08 00:00:00 2016-01-11 00:00:00  \\\n",
       "1           0.0182832           0.0092677         -0.00420481   \n",
       "2          -0.0153698            -0.02128          -0.0299951   \n",
       "3          -0.0180959          -0.0151097          -0.0251056   \n",
       "4          0.00656053          -0.0420167         -0.00476794   \n",
       "5          -0.0175169          -0.0161667          -0.0345531   \n",
       "\n",
       "0 2016-01-12 00:00:00 2016-01-13 00:00:00 2016-01-14 00:00:00  \\\n",
       "1          -0.0128108           0.0152253           0.0159256   \n",
       "2           -0.015953          -0.0364777          0.00896472   \n",
       "3        -0.000608215          -0.0220058           0.0429531   \n",
       "4         0.000157794          -0.0280624          0.00555465   \n",
       "5          -0.0134529          -0.0190108            0.016819   \n",
       "\n",
       "0         ...         2016-12-16 00:00:00 2016-12-19 00:00:00  \\\n",
       "1         ...                   0.0123973         0.000136953   \n",
       "2         ...                 -0.00239872         0.000933837   \n",
       "3         ...                  0.00203671         -0.00608263   \n",
       "4         ...                  -0.0123068            -0.00423   \n",
       "5         ...                  -0.0187599           0.0084847   \n",
       "\n",
       "0 2016-12-20 00:00:00 2016-12-21 00:00:00 2016-12-22 00:00:00  \\\n",
       "1          0.00575192         -0.00435728          0.00533442   \n",
       "2          0.00213054          0.00265741        -0.000931586   \n",
       "3         0.000848527         -0.00363353          0.00703743   \n",
       "4        -0.000792873          0.00819124          -0.0350502   \n",
       "5           0.0074754         -0.00466796          0.00362554   \n",
       "\n",
       "0 2016-12-23 00:00:00 2016-12-27 00:00:00 2016-12-28 00:00:00  \\\n",
       "1        -0.000271629          0.00326483         -0.00881716   \n",
       "2         -0.00173193          -0.0019971          -0.0115615   \n",
       "3          8.4401e-05         -0.00236286         -0.00338089   \n",
       "4         -0.00305684         -0.00111118          -0.0101573   \n",
       "5          0.00565091          0.00222607          -0.0153277   \n",
       "\n",
       "0 2016-12-29 00:00:00 2016-12-30 00:00:00  \n",
       "1           0.0124384          -0.0053996  \n",
       "2         -0.00552416         -0.00690032  \n",
       "3         -0.00161005          0.00221386  \n",
       "4          -0.0051923         -0.00112726  \n",
       "5          0.00010722         -0.00322445  \n",
       "\n",
       "[5 rows x 253 columns]"
      ]
     },
     "execution_count": 330,
     "metadata": {},
     "output_type": "execute_result"
    }
   ],
   "source": [
    "df.head()"
   ]
  },
  {
   "cell_type": "markdown",
   "metadata": {},
   "source": [
    "<h3> Merge S&P 500 data, filter symbols to 3 most common sectors </h3>"
   ]
  },
  {
   "cell_type": "code",
   "execution_count": 331,
   "metadata": {
    "scrolled": true
   },
   "outputs": [],
   "source": [
    "sp = pd.read_csv('sp500.csv')\n",
    "\n",
    "df = pd.merge(sp, df, on='Symbol')\n",
    "\n",
    "df['Sector'].value_counts()\n",
    "df = df[(df['Sector'] == 'Consumer Discretionary') |\n",
    "        (df['Sector'] == 'Information Technology') |\n",
    "        (df['Sector'] == 'Financials')]\n",
    "\n",
    "label = df['Symbol']\n",
    "sector = df['Sector']\n",
    "df = df.drop(['Symbol','Sector', 'Name'],1)\n",
    "\n",
    "df = df.dropna(axis=0, how='any')"
   ]
  },
  {
   "cell_type": "code",
   "execution_count": 332,
   "metadata": {},
   "outputs": [],
   "source": [
    "import sklearn\n",
    "from sklearn.cluster import FeatureAgglomeration\n",
    "\n",
    "#features = test.drop('DATE',1)\n",
    "agglo = FeatureAgglomeration(n_clusters=3).fit_transform(df)"
   ]
  },
  {
   "cell_type": "markdown",
   "metadata": {},
   "source": [
    "<h3> Consumer: Green, IT: Blue, Financials: Red </h3>"
   ]
  },
  {
   "cell_type": "code",
   "execution_count": 333,
   "metadata": {},
   "outputs": [],
   "source": [
    "color=[]\n",
    "for i in sector:\n",
    "    if i == 'Consumer Discretionary':\n",
    "        color.append('g')\n",
    "    if i == 'Information Technology':\n",
    "        color.append('b')\n",
    "    if i == 'Financials':\n",
    "        color.append('r')"
   ]
  },
  {
   "cell_type": "markdown",
   "metadata": {},
   "source": [
    "<h3> 2015 data </h3>"
   ]
  },
  {
   "cell_type": "code",
   "execution_count": 325,
   "metadata": {},
   "outputs": [
    {
     "data": {
      "image/png": "[encoded data removed]",
      "text/plain": [
       "<matplotlib.figure.Figure at 0x25d021be898>"
      ]
     },
     "metadata": {},
     "output_type": "display_data"
    }
   ],
   "source": [
    "plt.figure(figsize=(10,5))\n",
    "plt.ylim((-.02,.015))\n",
    "plt.xlim((-.01,.00))\n",
    "plt.scatter(agglo[:,0],agglo[:,1],c=color)\n",
    "plt.show()"
   ]
  },
  {
   "cell_type": "markdown",
   "metadata": {},
   "source": [
    "<h3> 2016 data </h3>"
   ]
  },
  {
   "cell_type": "code",
   "execution_count": 339,
   "metadata": {},
   "outputs": [
    {
     "data": {
      "image/png": "[encoded data removed]",
      "text/plain": [
       "<matplotlib.figure.Figure at 0x25ce5030390>"
      ]
     },
     "metadata": {},
     "output_type": "display_data"
    }
   ],
   "source": [
    "plt.figure(figsize=(10,5))\n",
    "plt.ylim((-.04,.004))\n",
    "plt.xlim((-.0,.02))\n",
    "plt.scatter(agglo[:,0],agglo[:,1],c=color)\n",
    "plt.show()"
   ]
  }
 ],
 "metadata": {
  "kernelspec": {
   "display_name": "Python 3",
   "language": "python",
   "name": "python3"
  },
  "language_info": {
   "codemirror_mode": {
    "name": "ipython",
    "version": 3
   },
   "file_extension": ".py",
   "mimetype": "text/x-python",
   "name": "python",
   "nbconvert_exporter": "python",
   "pygments_lexer": "ipython3",
   "version": "3.6.1"
  }
 },
 "nbformat": 4,
 "nbformat_minor": 2
}
