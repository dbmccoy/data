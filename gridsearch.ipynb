{
 "cells": [
  {
   "cell_type": "code",
   "execution_count": 2,
   "metadata": {},
   "outputs": [
    {
     "name": "stderr",
     "output_type": "stream",
     "text": [
      "Downloading dataset from http://people.csail.mit.edu/jrennie/20Newsgroups/20news-bydate.tar.gz (14 MB)\n"
     ]
    },
    {
     "name": "stdout",
     "output_type": "stream",
     "text": [
      "Loading 20 newsgroups dataset for categories:\n",
      "['alt.atheism', 'talk.religion.misc']\n",
      "\n",
      "857 total samples\n",
      "  480 samples of alt.atheism\n",
      "  377 samples of talk.religion.misc\n"
     ]
    }
   ],
   "source": [
    "# remove warnings\n",
    "import warnings\n",
    "warnings.filterwarnings('ignore')\n",
    "# ---\n",
    "\n",
    "# set matplotlib environment and import some basics\n",
    "%matplotlib inline\n",
    "from matplotlib import pyplot as plt\n",
    "import matplotlib\n",
    "matplotlib.style.use('ggplot')\n",
    "import numpy as np\n",
    "import pandas as pd\n",
    "pd.options.display.max_columns = 100\n",
    "pd.options.display.max_rows = 100\n",
    "pd.options.display.max_colwidth = 100 # set to -1 to see entire text\n",
    "\n",
    "# import the scikit modules to be used\n",
    "from sklearn.datasets import fetch_20newsgroups\n",
    "\n",
    "# specify some categories from the training set\n",
    "categories = [\n",
    "    'alt.atheism',\n",
    "    'talk.religion.misc',\n",
    "]\n",
    "# Uncomment the following to do the analysis on all the categories\n",
    "#categories = None\n",
    "\n",
    "print(\"Loading 20 newsgroups dataset for categories:\")\n",
    "print(categories)\n",
    "\n",
    "# load the training dataset\n",
    "data = fetch_20newsgroups(subset='train', categories=categories)\n",
    "\n",
    "print(\"\\n%d total samples\"%(len(data.target)))\n",
    "for catname,index in zip(data.target_names, range(len(data.target_names))):\n",
    "    print(\"  %d samples of %s\"%(sum(data.target==index), catname))"
   ]
  },
  {
   "cell_type": "code",
   "execution_count": 3,
   "metadata": {},
   "outputs": [
    {
     "name": "stdout",
     "output_type": "stream",
     "text": [
      "\n",
      "Vectorizing text data...\n",
      "X_vectors.shape =  (857, 18089)\n",
      "Performing grid search...\n",
      "parameters:\n",
      "{'penalty': ('none', 'l2', 'l1', 'elasticnet'), 'n_iter': (5, 10, 20, 50, 80)}\n",
      "Fitting 3 folds for each of 20 candidates, totalling 60 fits\n"
     ]
    },
    {
     "name": "stderr",
     "output_type": "stream",
     "text": [
      "[Parallel(n_jobs=-1)]: Done  34 tasks      | elapsed:    1.5s\n",
      "[Parallel(n_jobs=-1)]: Done  45 out of  60 | elapsed:    1.8s remaining:    0.5s\n"
     ]
    },
    {
     "name": "stdout",
     "output_type": "stream",
     "text": [
      "done in 2.781s\n",
      "\n",
      "Best score: 0.943\n",
      "Best parameters set:\n",
      "\tn_iter: 5\n",
      "\tpenalty: 'l2'\n"
     ]
    },
    {
     "name": "stderr",
     "output_type": "stream",
     "text": [
      "[Parallel(n_jobs=-1)]: Done  60 out of  60 | elapsed:    2.3s finished\n"
     ]
    }
   ],
   "source": [
    "from time import time\n",
    "from sklearn.feature_extraction.text import TfidfVectorizer\n",
    "from sklearn.linear_model import SGDClassifier\n",
    "from sklearn.model_selection import GridSearchCV\n",
    "from sklearn.pipeline import Pipeline\n",
    "\n",
    "# Tfidf vectorizer: vectorize the comment texts, and apply TF-IDF weighting\n",
    "# Note that there are a bunch of parameter options, but I just use defaults here.\n",
    "print(\"\\nVectorizing text data...\")\n",
    "X_vectors = TfidfVectorizer().fit_transform(data.data)\n",
    "print(\"X_vectors.shape = \",X_vectors.shape)\n",
    "\n",
    "# Define SGDClassifier defaults: \n",
    "# Doing it this way allows me to define my own default params\n",
    "#   based on optimal values obtained in previous grid searches.\n",
    "clf_defaults = {\n",
    "    \"alpha\": 1e-03, \n",
    "    \"penalty\" : 'l2',\n",
    "    \"n_iter\" : 10\n",
    "    }\n",
    "\n",
    "# Define parameters to test in the grid search.\n",
    "# Uncommenting more parameters will give better exploring power but will\n",
    "#   increase processing time in a combinatorial way\n",
    "parameters = {\n",
    "    #'alpha': (1e-02, 1e-03, 1e-04, 1e-05, 1e-06),\n",
    "    'penalty': ( 'none', 'l2', 'l1', 'elasticnet'),\n",
    "    'n_iter': (5, 10, 20, 50, 80),\n",
    "}\n",
    "\n",
    "# create the classifier to use and set the defaults I want it to have\n",
    "clf = SGDClassifier(**clf_defaults)\n",
    "\n",
    "# Create the grid search object.\n",
    "# Note that \"n_jobs=-1\" means that the search will use all of the \n",
    "#  computer's available processing cores to speed things up.\n",
    "grid_search = GridSearchCV(clf, parameters, n_jobs=-1, verbose=1)\n",
    "\n",
    "print(\"Performing grid search...\")\n",
    "print(\"parameters:\")\n",
    "print(parameters)\n",
    "t0 = time()\n",
    "\n",
    "# Run the grid search to find the best parameters for the classifier.\n",
    "grid_search.fit(X_vectors, data.target)\n",
    "\n",
    "print(\"done in %0.3fs\" % (time() - t0))\n",
    "print()\n",
    "\n",
    "print(\"Best score: %0.3f\" % grid_search.best_score_)\n",
    "print(\"Best parameters set:\")\n",
    "best_parameters = grid_search.best_estimator_.get_params()\n",
    "for param_name in sorted(parameters.keys()):\n",
    "    print(\"\\t%s: %r\" % (param_name, best_parameters[param_name]))"
   ]
  },
  {
   "cell_type": "code",
   "execution_count": 4,
   "metadata": {},
   "outputs": [
    {
     "data": {
      "image/png": "[encoded data removed]",
      "text/plain": [
       "<matplotlib.figure.Figure at 0x255805bef98>"
      ]
     },
     "metadata": {},
     "output_type": "display_data"
    }
   ],
   "source": [
    "from mpl_toolkits.axes_grid1 import make_axes_locatable\n",
    "\n",
    "# display the results of each parameter set as a confusion matrix grid\n",
    "# NOTE: this only shows the first two parameters\n",
    "results = pd.DataFrame(grid_search.cv_results_)\n",
    "\n",
    "# names of tuned parameters\n",
    "paramnames = list(parameters.keys())\n",
    "\n",
    "# convert the gridsearch score output into an array of param 1 vs param 2\n",
    "resultspv = results.pivot(index='param_'+paramnames[0], columns='param_'+paramnames[1], values='mean_test_score')\n",
    "\n",
    "# plot a grid of the parameter scores\n",
    "fsize = 15\n",
    "a = plt.figure(figsize=(8,8))\n",
    "plt.rcParams[\"axes.grid\"] = False\n",
    "ax = plt.gca()\n",
    "im = ax.imshow(resultspv.values, cmap=plt.cm.Blues)\n",
    "plt.title(\"Classifier accuracy given parameters:\\n\", fontsize = fsize*1.5)\n",
    "plt.xticks(np.arange(resultspv.shape[1]), resultspv.columns, fontsize = fsize)\n",
    "plt.yticks(np.arange(resultspv.shape[0]), resultspv.index, fontsize = fsize)\n",
    "plt.xlabel(paramnames[1], fontsize = fsize*1.5)\n",
    "plt.ylabel(paramnames[0], fontsize = fsize*1.5)\n",
    "plt.tight_layout()\n",
    "\n",
    "# draw a nice color bar\n",
    "divider = make_axes_locatable(ax)\n",
    "cax = divider.append_axes(\"right\", size=\"5%\", pad=0.05)\n",
    "a = plt.colorbar(im, cax=cax)"
   ]
  }
 ],
 "metadata": {
  "kernelspec": {
   "display_name": "Python 3",
   "language": "python",
   "name": "python3"
  },
  "language_info": {
   "codemirror_mode": {
    "name": "ipython",
    "version": 3
   },
   "file_extension": ".py",
   "mimetype": "text/x-python",
   "name": "python",
   "nbconvert_exporter": "python",
   "pygments_lexer": "ipython3",
   "version": "3.6.1"
  }
 },
 "nbformat": 4,
 "nbformat_minor": 2
}
